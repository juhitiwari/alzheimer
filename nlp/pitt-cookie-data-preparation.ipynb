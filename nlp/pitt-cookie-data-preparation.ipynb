{
 "cells": [
  {
   "cell_type": "markdown",
   "metadata": {},
   "source": [
    "# Pitt Data Preparation"
   ]
  },
  {
   "cell_type": "markdown",
   "metadata": {},
   "source": [
    "This notebook assumes that the Pitt text data is available in `../data/Pitt`, please adjust accordingly if necessary.\n",
    "\n",
    "Refer to the `CHA files processing` notebook for more details on `.cha` file parsing."
   ]
  },
  {
   "cell_type": "code",
   "execution_count": 1,
   "metadata": {},
   "outputs": [],
   "source": [
    "import pylangacq as pla\n",
    "import pandas as pd\n",
    "from pathlib import Path"
   ]
  },
  {
   "cell_type": "code",
   "execution_count": 2,
   "metadata": {},
   "outputs": [],
   "source": [
    "Path.ls = lambda p: list(p.iterdir())"
   ]
  },
  {
   "cell_type": "markdown",
   "metadata": {},
   "source": [
    "## Total utterances by participant"
   ]
  },
  {
   "cell_type": "code",
   "execution_count": 3,
   "metadata": {},
   "outputs": [],
   "source": [
    "pitt_path = Path('../data/Pitt/')"
   ]
  },
  {
   "cell_type": "code",
   "execution_count": 4,
   "metadata": {},
   "outputs": [
    {
     "data": {
      "text/plain": [
       "[PosixPath('../data/Pitt/Dementia'),\n",
       " PosixPath('../data/Pitt/0metadata.cdc'),\n",
       " PosixPath('../data/Pitt/Control')]"
      ]
     },
     "execution_count": 4,
     "metadata": {},
     "output_type": "execute_result"
    }
   ],
   "source": [
    "pitt_path.ls()"
   ]
  },
  {
   "cell_type": "code",
   "execution_count": 5,
   "metadata": {},
   "outputs": [
    {
     "data": {
      "text/plain": [
       "[PosixPath('../data/Pitt/Control/fluency'),\n",
       " PosixPath('../data/Pitt/Control/cookie')]"
      ]
     },
     "execution_count": 5,
     "metadata": {},
     "output_type": "execute_result"
    }
   ],
   "source": [
    "(pitt_path/'Control').ls()"
   ]
  },
  {
   "cell_type": "code",
   "execution_count": 6,
   "metadata": {},
   "outputs": [
    {
     "data": {
      "text/plain": [
       "[PosixPath('../data/Pitt/Dementia/recall'),\n",
       " PosixPath('../data/Pitt/Dementia/sentence'),\n",
       " PosixPath('../data/Pitt/Dementia/fluency'),\n",
       " PosixPath('../data/Pitt/Dementia/cookie')]"
      ]
     },
     "execution_count": 6,
     "metadata": {},
     "output_type": "execute_result"
    }
   ],
   "source": [
    "(pitt_path/'Dementia').ls()"
   ]
  },
  {
   "cell_type": "markdown",
   "metadata": {},
   "source": [
    "We have 4 Dementia groups but only two of them have a corresponding Control group. Let's just use the 'cookie' experiment"
   ]
  },
  {
   "cell_type": "code",
   "execution_count": 9,
   "metadata": {},
   "outputs": [],
   "source": [
    "control_path = pitt_path/'Control'/'cookie'\n",
    "dementia_path = pitt_path/'Dementia'/'cookie'"
   ]
  },
  {
   "cell_type": "code",
   "execution_count": 10,
   "metadata": {},
   "outputs": [],
   "source": [
    "control_chats = pla.read_chat((control_path/'*.cha').as_posix(), encoding='utf-8')"
   ]
  },
  {
   "cell_type": "code",
   "execution_count": 11,
   "metadata": {},
   "outputs": [
    {
     "data": {
      "text/plain": [
       "3145"
      ]
     },
     "execution_count": 11,
     "metadata": {},
     "output_type": "execute_result"
    }
   ],
   "source": [
    "control_chats.number_of_utterances(participant='PAR')"
   ]
  },
  {
   "cell_type": "code",
   "execution_count": 12,
   "metadata": {},
   "outputs": [
    {
     "data": {
      "text/plain": [
       "3908"
      ]
     },
     "execution_count": 12,
     "metadata": {},
     "output_type": "execute_result"
    }
   ],
   "source": [
    "dementia_chats = pla.read_chat((dementia_path/'*.cha').as_posix(), encoding='utf-8')\n",
    "dementia_chats.number_of_utterances(participant='PAR')"
   ]
  },
  {
   "cell_type": "code",
   "execution_count": 13,
   "metadata": {},
   "outputs": [
    {
     "name": "stdout",
     "output_type": "stream",
     "text": [
      "3145 3908\n"
     ]
    }
   ],
   "source": [
    "control_tagged_sents = control_chats.tagged_sents(participant='PAR')\n",
    "dementia_tagged_sents = dementia_chats.tagged_sents(participant='PAR')\n",
    "print(len(control_tagged_sents), len(dementia_tagged_sents))"
   ]
  },
  {
   "cell_type": "markdown",
   "metadata": {},
   "source": [
    "## Data preparation"
   ]
  },
  {
   "cell_type": "markdown",
   "metadata": {},
   "source": [
    "Let's prepare sentence data with the samples we have for now. In my opinion, the sensible thing to do would be to train and classify based on whole documents, not isolated sentences. Let's go with it so we can compare results against the paper's."
   ]
  },
  {
   "cell_type": "code",
   "execution_count": 14,
   "metadata": {},
   "outputs": [],
   "source": [
    "control_sents = control_chats.sents(participant='PAR')\n",
    "dementia_sents = dementia_chats.sents(participant='PAR')"
   ]
  },
  {
   "cell_type": "code",
   "execution_count": 15,
   "metadata": {},
   "outputs": [
    {
     "data": {
      "text/html": [
       "<div>\n",
       "<style scoped>\n",
       "    .dataframe tbody tr th:only-of-type {\n",
       "        vertical-align: middle;\n",
       "    }\n",
       "\n",
       "    .dataframe tbody tr th {\n",
       "        vertical-align: top;\n",
       "    }\n",
       "\n",
       "    .dataframe thead th {\n",
       "        text-align: right;\n",
       "    }\n",
       "</style>\n",
       "<table border=\"1\" class=\"dataframe\">\n",
       "  <thead>\n",
       "    <tr style=\"text-align: right;\">\n",
       "      <th></th>\n",
       "      <th>sentence</th>\n",
       "      <th>tagged</th>\n",
       "      <th>group</th>\n",
       "    </tr>\n",
       "  </thead>\n",
       "  <tbody>\n",
       "    <tr>\n",
       "      <th>0</th>\n",
       "      <td>[the, scene, is, in, the, kitchen, .]</td>\n",
       "      <td>[(the, DET:ART, the, (1, 2, DET)), (scene, N, ...</td>\n",
       "      <td>control</td>\n",
       "    </tr>\n",
       "    <tr>\n",
       "      <th>1</th>\n",
       "      <td>[the, mother, is, wiping, dishes, and, the, wa...</td>\n",
       "      <td>[(the, DET:ART, the, (1, 2, DET)), (mother, N,...</td>\n",
       "      <td>control</td>\n",
       "    </tr>\n",
       "    <tr>\n",
       "      <th>2</th>\n",
       "      <td>[a, boy, is, trying, to, get, cookies, out, of...</td>\n",
       "      <td>[(a, DET:ART, a, (1, 2, DET)), (boy, N, boy, (...</td>\n",
       "      <td>control</td>\n",
       "    </tr>\n",
       "    <tr>\n",
       "      <th>3</th>\n",
       "      <td>[the, little, girl, is, reacting, to, his, fal...</td>\n",
       "      <td>[(the, DET:ART, the, (1, 3, DET)), (little, AD...</td>\n",
       "      <td>control</td>\n",
       "    </tr>\n",
       "    <tr>\n",
       "      <th>4</th>\n",
       "      <td>[it, seems, to, be, summer, out, .]</td>\n",
       "      <td>[(it, PRO:PER, it, (1, 2, SUBJ)), (seems, COP,...</td>\n",
       "      <td>control</td>\n",
       "    </tr>\n",
       "  </tbody>\n",
       "</table>\n",
       "</div>"
      ],
      "text/plain": [
       "                                            sentence  \\\n",
       "0              [the, scene, is, in, the, kitchen, .]   \n",
       "1  [the, mother, is, wiping, dishes, and, the, wa...   \n",
       "2  [a, boy, is, trying, to, get, cookies, out, of...   \n",
       "3  [the, little, girl, is, reacting, to, his, fal...   \n",
       "4                [it, seems, to, be, summer, out, .]   \n",
       "\n",
       "                                              tagged    group  \n",
       "0  [(the, DET:ART, the, (1, 2, DET)), (scene, N, ...  control  \n",
       "1  [(the, DET:ART, the, (1, 2, DET)), (mother, N,...  control  \n",
       "2  [(a, DET:ART, a, (1, 2, DET)), (boy, N, boy, (...  control  \n",
       "3  [(the, DET:ART, the, (1, 3, DET)), (little, AD...  control  \n",
       "4  [(it, PRO:PER, it, (1, 2, SUBJ)), (seems, COP,...  control  "
      ]
     },
     "execution_count": 15,
     "metadata": {},
     "output_type": "execute_result"
    }
   ],
   "source": [
    "control_df = pd.DataFrame({\n",
    "    'sentence': control_sents,\n",
    "    'tagged': control_tagged_sents,\n",
    "    'group': 'control'\n",
    "})\n",
    "control_df.head()"
   ]
  },
  {
   "cell_type": "code",
   "execution_count": 16,
   "metadata": {},
   "outputs": [
    {
     "data": {
      "text/html": [
       "<div>\n",
       "<style scoped>\n",
       "    .dataframe tbody tr th:only-of-type {\n",
       "        vertical-align: middle;\n",
       "    }\n",
       "\n",
       "    .dataframe tbody tr th {\n",
       "        vertical-align: top;\n",
       "    }\n",
       "\n",
       "    .dataframe thead th {\n",
       "        text-align: right;\n",
       "    }\n",
       "</style>\n",
       "<table border=\"1\" class=\"dataframe\">\n",
       "  <thead>\n",
       "    <tr style=\"text-align: right;\">\n",
       "      <th></th>\n",
       "      <th>sentence</th>\n",
       "      <th>tagged</th>\n",
       "      <th>group</th>\n",
       "    </tr>\n",
       "  </thead>\n",
       "  <tbody>\n",
       "    <tr>\n",
       "      <th>0</th>\n",
       "      <td>[mhm, .]</td>\n",
       "      <td>[(mhm, CO, mhm=yes, (1, 0, INCROOT)), (., ., ,...</td>\n",
       "      <td>dementia</td>\n",
       "    </tr>\n",
       "    <tr>\n",
       "      <th>1</th>\n",
       "      <td>[alright, .]</td>\n",
       "      <td>[(alright, CO, alright, (1, 0, INCROOT)), (., ...</td>\n",
       "      <td>dementia</td>\n",
       "    </tr>\n",
       "    <tr>\n",
       "      <th>2</th>\n",
       "      <td>[there's, a, young, boy, that's, getting, a, c...</td>\n",
       "      <td>[(there's, PRO:EXIST, there, (1, 2, SUBJ)), (C...</td>\n",
       "      <td>dementia</td>\n",
       "    </tr>\n",
       "    <tr>\n",
       "      <th>3</th>\n",
       "      <td>[and, he's, in, bad, shape, because, the, thin...</td>\n",
       "      <td>[(and, COORD, and, (1, 3, LINK)), (he's, PRO:S...</td>\n",
       "      <td>dementia</td>\n",
       "    </tr>\n",
       "    <tr>\n",
       "      <th>4</th>\n",
       "      <td>[and, in, the, picture, the, mother, is, washi...</td>\n",
       "      <td>[(and, COORD, and, (1, 8, LINK)), (in, PREP, i...</td>\n",
       "      <td>dementia</td>\n",
       "    </tr>\n",
       "  </tbody>\n",
       "</table>\n",
       "</div>"
      ],
      "text/plain": [
       "                                            sentence  \\\n",
       "0                                           [mhm, .]   \n",
       "1                                       [alright, .]   \n",
       "2  [there's, a, young, boy, that's, getting, a, c...   \n",
       "3  [and, he's, in, bad, shape, because, the, thin...   \n",
       "4  [and, in, the, picture, the, mother, is, washi...   \n",
       "\n",
       "                                              tagged     group  \n",
       "0  [(mhm, CO, mhm=yes, (1, 0, INCROOT)), (., ., ,...  dementia  \n",
       "1  [(alright, CO, alright, (1, 0, INCROOT)), (., ...  dementia  \n",
       "2  [(there's, PRO:EXIST, there, (1, 2, SUBJ)), (C...  dementia  \n",
       "3  [(and, COORD, and, (1, 3, LINK)), (he's, PRO:S...  dementia  \n",
       "4  [(and, COORD, and, (1, 8, LINK)), (in, PREP, i...  dementia  "
      ]
     },
     "execution_count": 16,
     "metadata": {},
     "output_type": "execute_result"
    }
   ],
   "source": [
    "dementia_df = pd.DataFrame({\n",
    "    'sentence': dementia_sents,\n",
    "    'tagged': dementia_tagged_sents,\n",
    "    'group': 'dementia'\n",
    "})\n",
    "dementia_df.head()"
   ]
  },
  {
   "cell_type": "markdown",
   "metadata": {},
   "source": [
    "Assign 20% validation independently to each group. This is not being used in the `pitt-cookie-ilmfit-sentence` notebook."
   ]
  },
  {
   "cell_type": "code",
   "execution_count": 17,
   "metadata": {},
   "outputs": [],
   "source": [
    "import random\n",
    "val_pct = 20"
   ]
  },
  {
   "cell_type": "code",
   "execution_count": 18,
   "metadata": {},
   "outputs": [],
   "source": [
    "def assign_validation(df, val_pct=val_pct):\n",
    "    val_values = [random.randint(0, 100) < val_pct for x in range(len(df))]\n",
    "    df['is_validation'] = val_values"
   ]
  },
  {
   "cell_type": "code",
   "execution_count": 19,
   "metadata": {},
   "outputs": [],
   "source": [
    "assign_validation(control_df)\n",
    "assign_validation(dementia_df)"
   ]
  },
  {
   "cell_type": "markdown",
   "metadata": {},
   "source": [
    "### Flatten word lists to phrases"
   ]
  },
  {
   "cell_type": "code",
   "execution_count": 20,
   "metadata": {},
   "outputs": [
    {
     "data": {
      "text/plain": [
       "7053"
      ]
     },
     "execution_count": 20,
     "metadata": {},
     "output_type": "execute_result"
    }
   ],
   "source": [
    "df = pd.concat([control_df, dementia_df])\n",
    "len(df)"
   ]
  },
  {
   "cell_type": "markdown",
   "metadata": {},
   "source": [
    "Note the last item in the sentence is usually a '.'. Keep it for now."
   ]
  },
  {
   "cell_type": "code",
   "execution_count": 21,
   "metadata": {},
   "outputs": [],
   "source": [
    "df['text'] = df.apply(lambda row: ' '.join(row.sentence), axis=1)"
   ]
  },
  {
   "cell_type": "code",
   "execution_count": 22,
   "metadata": {},
   "outputs": [
    {
     "data": {
      "text/plain": [
       "'the mother is wiping dishes and the water is running on the floor .'"
      ]
     },
     "execution_count": 22,
     "metadata": {},
     "output_type": "execute_result"
    }
   ],
   "source": [
    "df.iloc[1].text"
   ]
  },
  {
   "cell_type": "code",
   "execution_count": 23,
   "metadata": {},
   "outputs": [
    {
     "data": {
      "text/plain": [
       "'you want more ?'"
      ]
     },
     "execution_count": 23,
     "metadata": {},
     "output_type": "execute_result"
    }
   ],
   "source": [
    "df.iloc[15].text"
   ]
  },
  {
   "cell_type": "markdown",
   "metadata": {},
   "source": [
    "Reorder columns"
   ]
  },
  {
   "cell_type": "code",
   "execution_count": 24,
   "metadata": {},
   "outputs": [
    {
     "data": {
      "text/html": [
       "<div>\n",
       "<style scoped>\n",
       "    .dataframe tbody tr th:only-of-type {\n",
       "        vertical-align: middle;\n",
       "    }\n",
       "\n",
       "    .dataframe tbody tr th {\n",
       "        vertical-align: top;\n",
       "    }\n",
       "\n",
       "    .dataframe thead th {\n",
       "        text-align: right;\n",
       "    }\n",
       "</style>\n",
       "<table border=\"1\" class=\"dataframe\">\n",
       "  <thead>\n",
       "    <tr style=\"text-align: right;\">\n",
       "      <th></th>\n",
       "      <th>group</th>\n",
       "      <th>is_validation</th>\n",
       "      <th>sentence</th>\n",
       "      <th>tagged</th>\n",
       "      <th>text</th>\n",
       "    </tr>\n",
       "  </thead>\n",
       "  <tbody>\n",
       "    <tr>\n",
       "      <th>0</th>\n",
       "      <td>control</td>\n",
       "      <td>False</td>\n",
       "      <td>[the, scene, is, in, the, kitchen, .]</td>\n",
       "      <td>[(the, DET:ART, the, (1, 2, DET)), (scene, N, ...</td>\n",
       "      <td>the scene is in the kitchen .</td>\n",
       "    </tr>\n",
       "    <tr>\n",
       "      <th>1</th>\n",
       "      <td>control</td>\n",
       "      <td>False</td>\n",
       "      <td>[the, mother, is, wiping, dishes, and, the, wa...</td>\n",
       "      <td>[(the, DET:ART, the, (1, 2, DET)), (mother, N,...</td>\n",
       "      <td>the mother is wiping dishes and the water is r...</td>\n",
       "    </tr>\n",
       "    <tr>\n",
       "      <th>2</th>\n",
       "      <td>control</td>\n",
       "      <td>False</td>\n",
       "      <td>[a, boy, is, trying, to, get, cookies, out, of...</td>\n",
       "      <td>[(a, DET:ART, a, (1, 2, DET)), (boy, N, boy, (...</td>\n",
       "      <td>a boy is trying to get cookies out of a jar an...</td>\n",
       "    </tr>\n",
       "    <tr>\n",
       "      <th>3</th>\n",
       "      <td>control</td>\n",
       "      <td>False</td>\n",
       "      <td>[the, little, girl, is, reacting, to, his, fal...</td>\n",
       "      <td>[(the, DET:ART, the, (1, 3, DET)), (little, AD...</td>\n",
       "      <td>the little girl is reacting to his falling .</td>\n",
       "    </tr>\n",
       "    <tr>\n",
       "      <th>4</th>\n",
       "      <td>control</td>\n",
       "      <td>False</td>\n",
       "      <td>[it, seems, to, be, summer, out, .]</td>\n",
       "      <td>[(it, PRO:PER, it, (1, 2, SUBJ)), (seems, COP,...</td>\n",
       "      <td>it seems to be summer out .</td>\n",
       "    </tr>\n",
       "  </tbody>\n",
       "</table>\n",
       "</div>"
      ],
      "text/plain": [
       "     group  is_validation                                           sentence  \\\n",
       "0  control          False              [the, scene, is, in, the, kitchen, .]   \n",
       "1  control          False  [the, mother, is, wiping, dishes, and, the, wa...   \n",
       "2  control          False  [a, boy, is, trying, to, get, cookies, out, of...   \n",
       "3  control          False  [the, little, girl, is, reacting, to, his, fal...   \n",
       "4  control          False                [it, seems, to, be, summer, out, .]   \n",
       "\n",
       "                                              tagged  \\\n",
       "0  [(the, DET:ART, the, (1, 2, DET)), (scene, N, ...   \n",
       "1  [(the, DET:ART, the, (1, 2, DET)), (mother, N,...   \n",
       "2  [(a, DET:ART, a, (1, 2, DET)), (boy, N, boy, (...   \n",
       "3  [(the, DET:ART, the, (1, 3, DET)), (little, AD...   \n",
       "4  [(it, PRO:PER, it, (1, 2, SUBJ)), (seems, COP,...   \n",
       "\n",
       "                                                text  \n",
       "0                      the scene is in the kitchen .  \n",
       "1  the mother is wiping dishes and the water is r...  \n",
       "2  a boy is trying to get cookies out of a jar an...  \n",
       "3       the little girl is reacting to his falling .  \n",
       "4                        it seems to be summer out .  "
      ]
     },
     "execution_count": 24,
     "metadata": {},
     "output_type": "execute_result"
    }
   ],
   "source": [
    "df = df[['group', 'is_validation', 'sentence', 'tagged', 'text']]\n",
    "df.head()"
   ]
  },
  {
   "cell_type": "markdown",
   "metadata": {},
   "source": [
    "Save to `csv`"
   ]
  },
  {
   "cell_type": "code",
   "execution_count": 25,
   "metadata": {},
   "outputs": [],
   "source": [
    "model_path = pitt_path.parent/'models'\n",
    "model_path.mkdir(exist_ok=True)"
   ]
  },
  {
   "cell_type": "code",
   "execution_count": 26,
   "metadata": {},
   "outputs": [],
   "source": [
    "df.to_csv(model_path/'pitt-cookie.csv')"
   ]
  },
  {
   "cell_type": "code",
   "execution_count": null,
   "metadata": {},
   "outputs": [],
   "source": []
  }
 ],
 "metadata": {
  "kernelspec": {
   "display_name": "Python 3",
   "language": "python",
   "name": "python3"
  },
  "language_info": {
   "codemirror_mode": {
    "name": "ipython",
    "version": 3
   },
   "file_extension": ".py",
   "mimetype": "text/x-python",
   "name": "python",
   "nbconvert_exporter": "python",
   "pygments_lexer": "ipython3",
   "version": "3.7.2"
  }
 },
 "nbformat": 4,
 "nbformat_minor": 2
}
