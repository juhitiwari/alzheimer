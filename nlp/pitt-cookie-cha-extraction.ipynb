{
 "cells": [
  {
   "cell_type": "markdown",
   "metadata": {},
   "source": [
    "# Pitt cookie `.cha` extraction"
   ]
  },
  {
   "cell_type": "code",
   "execution_count": 29,
   "metadata": {},
   "outputs": [],
   "source": [
    "from pathlib import Path\n",
    "import re\n",
    "import glob"
   ]
  },
  {
   "cell_type": "code",
   "execution_count": 2,
   "metadata": {},
   "outputs": [],
   "source": [
    "pitt_path = Path('../data/Pitt/')\n",
    "control_path = pitt_path/'Control'/'cookie'\n",
    "dementia_path = pitt_path/'Dementia'/'cookie'"
   ]
  },
  {
   "cell_type": "code",
   "execution_count": 28,
   "metadata": {},
   "outputs": [
    {
     "data": {
      "text/plain": [
       "[\"&uh well here's the child reaching up but he's on a stool and he's\",\n",
       " 'falling off . ',\n",
       " \"she's drying dishes at the window . \",\n",
       " 'she also spilled the water . ',\n",
       " 'oh they [//] like I said they were climbing . ',\n",
       " \"she's doing dishes . \",\n",
       " 'she spilled the water too <out o(f) the sink> [//] over the sink I',\n",
       " 'should say . ']"
      ]
     },
     "execution_count": 28,
     "metadata": {},
     "output_type": "execute_result"
    }
   ],
   "source": [
    "def extract_participant_from_file(file):\n",
    "    par_re = re.compile(r'^\\*PAR:\\s(.*)')\n",
    "    cont_re = re.compile(r'^\\t(.*)')\n",
    "    \n",
    "    document = open(file).read()\n",
    "    doc = document.split('\\n')    \n",
    "\n",
    "    pre_list = []\n",
    "    in_par = False\n",
    "    for line in doc:\n",
    "        pattern = cont_re if in_par else par_re\n",
    "        match = pattern.match(line)\n",
    "        if match:\n",
    "            utterance = match.group(1)\n",
    "            utterance = re.sub('\\\\x15.*\\\\x15$', '', utterance)\n",
    "            pre_list.append(utterance)\n",
    "            in_par = True\n",
    "        else:\n",
    "            in_par = False\n",
    "            \n",
    "    return(pre_list)\n",
    "\n",
    "extract_participant_from_file(dementia_path/'703-0.cha')"
   ]
  },
  {
   "cell_type": "code",
   "execution_count": 40,
   "metadata": {},
   "outputs": [
    {
     "data": {
      "text/plain": [
       "243"
      ]
     },
     "execution_count": 40,
     "metadata": {},
     "output_type": "execute_result"
    }
   ],
   "source": [
    "def process_with_symbols(path_cha):    \n",
    "    files = sorted(glob.glob(path_cha))\n",
    "    \n",
    "    processed = []\n",
    "    \n",
    "    for file in files:\n",
    "        processed.append(extract_participant_from_file(file))\n",
    "    \n",
    "    return(processed)    \n",
    "\n",
    "utterances_symbol = process_with_symbols(str(control_path/'*.cha')) \n",
    "utterances_symbol_control = utterances_symbol\n",
    "len(utterances_symbol_control)"
   ]
  },
  {
   "cell_type": "code",
   "execution_count": 38,
   "metadata": {},
   "outputs": [
    {
     "data": {
      "text/plain": [
       "['well the kids are in the kitchen with their mother &uh &uh takin(g)',\n",
       " 'cookies out o(f) the cookie jar . ',\n",
       " \"a boy's handin(g) it to the girl . \",\n",
       " \"and the boy's &uh <on a> [/] on a &uh stool and he's tripping\",\n",
       " '[: tipping] [* p:w] over . ',\n",
       " \"he's gonna fall on the floor . \",\n",
       " \"the mother's standing there doing the dishes . \",\n",
       " \"she's washing the dishes looking out the open window . \",\n",
       " \"and the water's runnin(g) down over the sink on [/] on the floor\",\n",
       " 'getting her feet wet . ',\n",
       " \"and <there are> [//] she's dryin(g) a dish . \",\n",
       " 'and there are a couple o(f) dishes sitting on the &k kitchen',\n",
       " 'counter . ',\n",
       " \"and looking out the window &uh it's probably in the spring or\",\n",
       " 'summer of the year . ']"
      ]
     },
     "execution_count": 38,
     "metadata": {},
     "output_type": "execute_result"
    }
   ],
   "source": [
    "utterances_symbol_control[5]"
   ]
  }
 ],
 "metadata": {
  "kernelspec": {
   "display_name": "Python 3",
   "language": "python",
   "name": "python3"
  },
  "language_info": {
   "codemirror_mode": {
    "name": "ipython",
    "version": 3
   },
   "file_extension": ".py",
   "mimetype": "text/x-python",
   "name": "python",
   "nbconvert_exporter": "python",
   "pygments_lexer": "ipython3",
   "version": "3.7.2"
  }
 },
 "nbformat": 4,
 "nbformat_minor": 2
}
