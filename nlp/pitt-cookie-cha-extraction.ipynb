{
 "cells": [
  {
   "cell_type": "markdown",
   "metadata": {},
   "source": [
    "# Pitt cookie `.cha` extraction"
   ]
  },
  {
   "cell_type": "code",
   "execution_count": 1,
   "metadata": {},
   "outputs": [],
   "source": [
    "from pathlib import Path\n",
    "import re\n",
    "import glob\n",
    "import pandas as pd\n",
    "import pylangacq as pla"
   ]
  },
  {
   "cell_type": "code",
   "execution_count": 2,
   "metadata": {},
   "outputs": [],
   "source": [
    "pitt_path = Path('../data/Pitt/')\n",
    "control_path = pitt_path/'Control'/'cookie'\n",
    "dementia_path = pitt_path/'Dementia'/'cookie'"
   ]
  },
  {
   "cell_type": "code",
   "execution_count": 4,
   "metadata": {},
   "outputs": [
    {
     "data": {
      "text/plain": [
       "[\"&uh well here's the child reaching up but he's on a stool and he's\",\n",
       " 'falling off . ',\n",
       " \"she's drying dishes at the window . \",\n",
       " 'she also spilled the water . ',\n",
       " 'oh they [//] like I said they were climbing . ',\n",
       " \"she's doing dishes . \",\n",
       " 'she spilled the water too <out o(f) the sink> [//] over the sink I',\n",
       " 'should say . ']"
      ]
     },
     "execution_count": 4,
     "metadata": {},
     "output_type": "execute_result"
    }
   ],
   "source": [
    "# Raw extraction with any annotations / corrections\n",
    "def extract_participant_from_file(file):\n",
    "    par_re = re.compile(r'^\\*PAR:\\s(.*)')\n",
    "    cont_re = re.compile(r'^\\t(.*)')\n",
    "    \n",
    "    document = open(file).read()\n",
    "    doc = document.split('\\n')    \n",
    "\n",
    "    pre_list = []\n",
    "    in_par = False\n",
    "    for line in doc:\n",
    "        pattern = cont_re if in_par else par_re\n",
    "        match = pattern.match(line)\n",
    "        if match:\n",
    "            utterance = match.group(1)\n",
    "            utterance = re.sub('\\\\x15.*\\\\x15$', '', utterance)\n",
    "            pre_list.append(utterance)\n",
    "            in_par = True\n",
    "        else:\n",
    "            in_par = False\n",
    "            \n",
    "    return(pre_list)\n",
    "\n",
    "extract_participant_from_file(dementia_path/'703-0.cha')"
   ]
  },
  {
   "cell_type": "code",
   "execution_count": 10,
   "metadata": {},
   "outputs": [
    {
     "data": {
      "text/plain": [
       "[\"well here's the child reaching up but he's on a stool and he's falling off .\",\n",
       " \"she's drying dishes at the window .\",\n",
       " 'she also spilled the water .',\n",
       " 'oh like I said they were climbing .',\n",
       " \"she's doing dishes .\",\n",
       " 'she spilled the water too over the sink I should say .']"
      ]
     },
     "execution_count": 10,
     "metadata": {},
     "output_type": "execute_result"
    }
   ],
   "source": [
    "# PyLangAcq extraction that cleans up text\n",
    "def pla_extract_participant_from_file(file):\n",
    "    chat = pla.read_chat(file, encoding='utf-8')\n",
    "    sentences = chat.sents(participant='PAR')\n",
    "    \n",
    "    # Sentences are lists of words. Flatten them.\n",
    "    sentences = [' '.join(s) for s in sentences]\n",
    "    return sentences\n",
    "\n",
    "pla_extract_participant_from_file(str(dementia_path/'703-0.cha'))"
   ]
  },
  {
   "cell_type": "markdown",
   "metadata": {},
   "source": [
    "**Note that the token `[//]` that appears in the first version marks corrections that must have been performed by a human. The second version, as extracted by pylangacq, is corrected.**"
   ]
  },
  {
   "cell_type": "code",
   "execution_count": 14,
   "metadata": {},
   "outputs": [
    {
     "name": "stdout",
     "output_type": "stream",
     "text": [
      "243 243\n",
      "['well the kids are in the kitchen with their mother &uh &uh takin(g)', 'cookies out o(f) the cookie jar . ', \"a boy's handin(g) it to the girl . \", \"and the boy's &uh <on a> [/] on a &uh stool and he's tripping\", '[: tipping] [* p:w] over . ', \"he's gonna fall on the floor . \", \"the mother's standing there doing the dishes . \", \"she's washing the dishes looking out the open window . \", \"and the water's runnin(g) down over the sink on [/] on the floor\", 'getting her feet wet . ', \"and <there are> [//] she's dryin(g) a dish . \", 'and there are a couple o(f) dishes sitting on the &k kitchen', 'counter . ', \"and looking out the window &uh it's probably in the spring or\", 'summer of the year . ']\n",
      "['well the kids are in the kitchen with their mother taking cookies out of the cookie jar .', \"a boy's handing it to the girl .\", \"and the boy's on a stool and he's tipping over .\", \"he's gonna fall on the floor .\", \"the mother's standing there doing the dishes .\", \"she's washing the dishes looking out the open window .\", \"and the water's running down over the sink on the floor getting her feet wet .\", \"and she's drying a dish .\", 'and there are a couple of dishes sitting on the kitchen counter .', \"and looking out the window it's probably in the spring or summer of the year .\"]\n"
     ]
    }
   ],
   "source": [
    "def extract_from_path(path_cha):    \n",
    "    files = sorted(glob.glob(path_cha))\n",
    "    \n",
    "    extracted = []\n",
    "    extracted_clean = []\n",
    "    for file in files:\n",
    "        extracted.append(extract_participant_from_file(file))\n",
    "        extracted_clean.append(pla_extract_participant_from_file(file))\n",
    "    \n",
    "    return (extracted, extracted_clean)    \n",
    "\n",
    "# utterances_symbol = extract_from_path(str(control_path/'*.cha')) \n",
    "# utterances_symbol_control = utterances_symbol\n",
    "# len(utterances_symbol_control)\n",
    "\n",
    "(utterances_control, utterances_clean_control) = extract_from_path(str(control_path/'*.cha'))\n",
    "print(len(utterances_control), len(utterances_clean_control))\n",
    "print(utterances_control[5])\n",
    "print(utterances_clean_control[5])"
   ]
  },
  {
   "cell_type": "code",
   "execution_count": 15,
   "metadata": {},
   "outputs": [
    {
     "name": "stdout",
     "output_type": "stream",
     "text": [
      "309\n"
     ]
    }
   ],
   "source": [
    "(utterances_dementia, utterances_clean_dementia) = extract_from_path(str(dementia_path/'*.cha'))\n",
    "print(len(utterances_dementia))"
   ]
  },
  {
   "cell_type": "code",
   "execution_count": 17,
   "metadata": {},
   "outputs": [
    {
     "data": {
      "text/html": [
       "<div>\n",
       "<style scoped>\n",
       "    .dataframe tbody tr th:only-of-type {\n",
       "        vertical-align: middle;\n",
       "    }\n",
       "\n",
       "    .dataframe tbody tr th {\n",
       "        vertical-align: top;\n",
       "    }\n",
       "\n",
       "    .dataframe thead th {\n",
       "        text-align: right;\n",
       "    }\n",
       "</style>\n",
       "<table border=\"1\" class=\"dataframe\">\n",
       "  <thead>\n",
       "    <tr style=\"text-align: right;\">\n",
       "      <th></th>\n",
       "      <th>sentences</th>\n",
       "      <th>sentences_clean</th>\n",
       "      <th>group</th>\n",
       "    </tr>\n",
       "  </thead>\n",
       "  <tbody>\n",
       "    <tr>\n",
       "      <th>0</th>\n",
       "      <td>[the scene is &lt;in the&gt; [/] in the kitchen . , ...</td>\n",
       "      <td>[the scene is in the kitchen ., the mother is ...</td>\n",
       "      <td>control</td>\n",
       "    </tr>\n",
       "    <tr>\n",
       "      <th>1</th>\n",
       "      <td>[oh I see the sink is running over . , I see t...</td>\n",
       "      <td>[oh I see the sink is running over ., I see th...</td>\n",
       "      <td>control</td>\n",
       "    </tr>\n",
       "    <tr>\n",
       "      <th>2</th>\n",
       "      <td>[&amp;um a boy and a girl are in the kitchen with ...</td>\n",
       "      <td>[a boy and a girl are in the kitchen with thei...</td>\n",
       "      <td>control</td>\n",
       "    </tr>\n",
       "    <tr>\n",
       "      <th>3</th>\n",
       "      <td>[okay . [+ exc] , it was summertime and mother...</td>\n",
       "      <td>[okay ., it was summertime and mother and the ...</td>\n",
       "      <td>control</td>\n",
       "    </tr>\n",
       "    <tr>\n",
       "      <th>4</th>\n",
       "      <td>[&amp;=clears:throat wait (un)til I put my glasses...</td>\n",
       "      <td>[wait until I put my glasses on ., oh ‡ there'...</td>\n",
       "      <td>control</td>\n",
       "    </tr>\n",
       "  </tbody>\n",
       "</table>\n",
       "</div>"
      ],
      "text/plain": [
       "                                           sentences  \\\n",
       "0  [the scene is <in the> [/] in the kitchen . , ...   \n",
       "1  [oh I see the sink is running over . , I see t...   \n",
       "2  [&um a boy and a girl are in the kitchen with ...   \n",
       "3  [okay . [+ exc] , it was summertime and mother...   \n",
       "4  [&=clears:throat wait (un)til I put my glasses...   \n",
       "\n",
       "                                     sentences_clean    group  \n",
       "0  [the scene is in the kitchen ., the mother is ...  control  \n",
       "1  [oh I see the sink is running over ., I see th...  control  \n",
       "2  [a boy and a girl are in the kitchen with thei...  control  \n",
       "3  [okay ., it was summertime and mother and the ...  control  \n",
       "4  [wait until I put my glasses on ., oh ‡ there'...  control  "
      ]
     },
     "execution_count": 17,
     "metadata": {},
     "output_type": "execute_result"
    }
   ],
   "source": [
    "control_df = pd.DataFrame({\n",
    "    'sentences': utterances_control,\n",
    "    'sentences_clean': utterances_clean_control,\n",
    "    'group': 'control'\n",
    "})\n",
    "control_df.head()"
   ]
  },
  {
   "cell_type": "code",
   "execution_count": 18,
   "metadata": {},
   "outputs": [
    {
     "data": {
      "text/html": [
       "<div>\n",
       "<style scoped>\n",
       "    .dataframe tbody tr th:only-of-type {\n",
       "        vertical-align: middle;\n",
       "    }\n",
       "\n",
       "    .dataframe tbody tr th {\n",
       "        vertical-align: top;\n",
       "    }\n",
       "\n",
       "    .dataframe thead th {\n",
       "        text-align: right;\n",
       "    }\n",
       "</style>\n",
       "<table border=\"1\" class=\"dataframe\">\n",
       "  <thead>\n",
       "    <tr style=\"text-align: right;\">\n",
       "      <th></th>\n",
       "      <th>sentences</th>\n",
       "      <th>sentences_clean</th>\n",
       "      <th>group</th>\n",
       "    </tr>\n",
       "  </thead>\n",
       "  <tbody>\n",
       "    <tr>\n",
       "      <th>0</th>\n",
       "      <td>[mhm . [+ exc] , +&lt; alright . [+ exc] , there'...</td>\n",
       "      <td>[mhm ., alright ., there's a young boy that's ...</td>\n",
       "      <td>dementia</td>\n",
       "    </tr>\n",
       "    <tr>\n",
       "      <th>1</th>\n",
       "      <td>[mhm . , there's a young boy &amp;uh going in a co...</td>\n",
       "      <td>[mhm ., there's a young boy going in a cookie ...</td>\n",
       "      <td>dementia</td>\n",
       "    </tr>\n",
       "    <tr>\n",
       "      <th>2</th>\n",
       "      <td>[here's a cookie jar . , and the lid is off th...</td>\n",
       "      <td>[here's a cookie jar ., and the lid is off the...</td>\n",
       "      <td>dementia</td>\n",
       "    </tr>\n",
       "    <tr>\n",
       "      <th>3</th>\n",
       "      <td>[the boy is slipping off the stool . , he's tr...</td>\n",
       "      <td>[the boy is slipping off the stool ., he's try...</td>\n",
       "      <td>dementia</td>\n",
       "    </tr>\n",
       "    <tr>\n",
       "      <th>4</th>\n",
       "      <td>[okay he's fallin(g) off a chair [: stool] [* ...</td>\n",
       "      <td>[okay he's falling off a stool ., she's runnin...</td>\n",
       "      <td>dementia</td>\n",
       "    </tr>\n",
       "  </tbody>\n",
       "</table>\n",
       "</div>"
      ],
      "text/plain": [
       "                                           sentences  \\\n",
       "0  [mhm . [+ exc] , +< alright . [+ exc] , there'...   \n",
       "1  [mhm . , there's a young boy &uh going in a co...   \n",
       "2  [here's a cookie jar . , and the lid is off th...   \n",
       "3  [the boy is slipping off the stool . , he's tr...   \n",
       "4  [okay he's fallin(g) off a chair [: stool] [* ...   \n",
       "\n",
       "                                     sentences_clean     group  \n",
       "0  [mhm ., alright ., there's a young boy that's ...  dementia  \n",
       "1  [mhm ., there's a young boy going in a cookie ...  dementia  \n",
       "2  [here's a cookie jar ., and the lid is off the...  dementia  \n",
       "3  [the boy is slipping off the stool ., he's try...  dementia  \n",
       "4  [okay he's falling off a stool ., she's runnin...  dementia  "
      ]
     },
     "execution_count": 18,
     "metadata": {},
     "output_type": "execute_result"
    }
   ],
   "source": [
    "dementia_df = pd.DataFrame({\n",
    "    'sentences': utterances_dementia,\n",
    "    'sentences_clean': utterances_clean_dementia,\n",
    "    'group': 'dementia'\n",
    "})\n",
    "dementia_df.head()"
   ]
  },
  {
   "cell_type": "code",
   "execution_count": 19,
   "metadata": {},
   "outputs": [
    {
     "data": {
      "text/plain": [
       "552"
      ]
     },
     "execution_count": 19,
     "metadata": {},
     "output_type": "execute_result"
    }
   ],
   "source": [
    "df = pd.concat([control_df, dementia_df])\n",
    "len(df)"
   ]
  },
  {
   "cell_type": "markdown",
   "metadata": {},
   "source": [
    "## Flatten sentences into paragraphs describing the scene"
   ]
  },
  {
   "cell_type": "code",
   "execution_count": 20,
   "metadata": {},
   "outputs": [
    {
     "data": {
      "text/html": [
       "<div>\n",
       "<style scoped>\n",
       "    .dataframe tbody tr th:only-of-type {\n",
       "        vertical-align: middle;\n",
       "    }\n",
       "\n",
       "    .dataframe tbody tr th {\n",
       "        vertical-align: top;\n",
       "    }\n",
       "\n",
       "    .dataframe thead th {\n",
       "        text-align: right;\n",
       "    }\n",
       "</style>\n",
       "<table border=\"1\" class=\"dataframe\">\n",
       "  <thead>\n",
       "    <tr style=\"text-align: right;\">\n",
       "      <th></th>\n",
       "      <th>sentences</th>\n",
       "      <th>sentences_clean</th>\n",
       "      <th>group</th>\n",
       "      <th>text</th>\n",
       "      <th>clean</th>\n",
       "    </tr>\n",
       "  </thead>\n",
       "  <tbody>\n",
       "    <tr>\n",
       "      <th>0</th>\n",
       "      <td>[the scene is &lt;in the&gt; [/] in the kitchen . , ...</td>\n",
       "      <td>[the scene is in the kitchen ., the mother is ...</td>\n",
       "      <td>control</td>\n",
       "      <td>the scene is &lt;in the&gt; [/] in the kitchen .  th...</td>\n",
       "      <td>the scene is in the kitchen . the mother is wi...</td>\n",
       "    </tr>\n",
       "    <tr>\n",
       "      <th>1</th>\n",
       "      <td>[oh I see the sink is running over . , I see t...</td>\n",
       "      <td>[oh I see the sink is running over ., I see th...</td>\n",
       "      <td>control</td>\n",
       "      <td>oh I see the sink is running over .  I see the...</td>\n",
       "      <td>oh I see the sink is running over . I see the ...</td>\n",
       "    </tr>\n",
       "    <tr>\n",
       "      <th>2</th>\n",
       "      <td>[&amp;um a boy and a girl are in the kitchen with ...</td>\n",
       "      <td>[a boy and a girl are in the kitchen with thei...</td>\n",
       "      <td>control</td>\n",
       "      <td>&amp;um a boy and a girl are in the kitchen with t...</td>\n",
       "      <td>a boy and a girl are in the kitchen with their...</td>\n",
       "    </tr>\n",
       "    <tr>\n",
       "      <th>3</th>\n",
       "      <td>[okay . [+ exc] , it was summertime and mother...</td>\n",
       "      <td>[okay ., it was summertime and mother and the ...</td>\n",
       "      <td>control</td>\n",
       "      <td>okay . [+ exc]  it was summertime and mother a...</td>\n",
       "      <td>okay . it was summertime and mother and the ch...</td>\n",
       "    </tr>\n",
       "    <tr>\n",
       "      <th>4</th>\n",
       "      <td>[&amp;=clears:throat wait (un)til I put my glasses...</td>\n",
       "      <td>[wait until I put my glasses on ., oh ‡ there'...</td>\n",
       "      <td>control</td>\n",
       "      <td>&amp;=clears:throat wait (un)til I put my glasses ...</td>\n",
       "      <td>wait until I put my glasses on . oh ‡ there's ...</td>\n",
       "    </tr>\n",
       "  </tbody>\n",
       "</table>\n",
       "</div>"
      ],
      "text/plain": [
       "                                           sentences  \\\n",
       "0  [the scene is <in the> [/] in the kitchen . , ...   \n",
       "1  [oh I see the sink is running over . , I see t...   \n",
       "2  [&um a boy and a girl are in the kitchen with ...   \n",
       "3  [okay . [+ exc] , it was summertime and mother...   \n",
       "4  [&=clears:throat wait (un)til I put my glasses...   \n",
       "\n",
       "                                     sentences_clean    group  \\\n",
       "0  [the scene is in the kitchen ., the mother is ...  control   \n",
       "1  [oh I see the sink is running over ., I see th...  control   \n",
       "2  [a boy and a girl are in the kitchen with thei...  control   \n",
       "3  [okay ., it was summertime and mother and the ...  control   \n",
       "4  [wait until I put my glasses on ., oh ‡ there'...  control   \n",
       "\n",
       "                                                text  \\\n",
       "0  the scene is <in the> [/] in the kitchen .  th...   \n",
       "1  oh I see the sink is running over .  I see the...   \n",
       "2  &um a boy and a girl are in the kitchen with t...   \n",
       "3  okay . [+ exc]  it was summertime and mother a...   \n",
       "4  &=clears:throat wait (un)til I put my glasses ...   \n",
       "\n",
       "                                               clean  \n",
       "0  the scene is in the kitchen . the mother is wi...  \n",
       "1  oh I see the sink is running over . I see the ...  \n",
       "2  a boy and a girl are in the kitchen with their...  \n",
       "3  okay . it was summertime and mother and the ch...  \n",
       "4  wait until I put my glasses on . oh ‡ there's ...  "
      ]
     },
     "execution_count": 20,
     "metadata": {},
     "output_type": "execute_result"
    }
   ],
   "source": [
    "df['text'] = df.apply(lambda row: ' '.join(row.sentences), axis=1)\n",
    "df['clean'] = df.apply(lambda row: ' '.join(row.sentences_clean), axis=1)\n",
    "df.head()"
   ]
  },
  {
   "cell_type": "code",
   "execution_count": 21,
   "metadata": {},
   "outputs": [
    {
     "data": {
      "text/plain": [
       "\"well the kids are in the kitchen with their mother &uh &uh takin(g) cookies out o(f) the cookie jar .  a boy's handin(g) it to the girl .  and the boy's &uh <on a> [/] on a &uh stool and he's tripping [: tipping] [* p:w] over .  he's gonna fall on the floor .  the mother's standing there doing the dishes .  she's washing the dishes looking out the open window .  and the water's runnin(g) down over the sink on [/] on the floor getting her feet wet .  and <there are> [//] she's dryin(g) a dish .  and there are a couple o(f) dishes sitting on the &k kitchen counter .  and looking out the window &uh it's probably in the spring or summer of the year . \""
      ]
     },
     "execution_count": 21,
     "metadata": {},
     "output_type": "execute_result"
    }
   ],
   "source": [
    "df.iloc[5].text"
   ]
  },
  {
   "cell_type": "code",
   "execution_count": 22,
   "metadata": {},
   "outputs": [
    {
     "data": {
      "text/plain": [
       "\"well the kids are in the kitchen with their mother taking cookies out of the cookie jar . a boy's handing it to the girl . and the boy's on a stool and he's tipping over . he's gonna fall on the floor . the mother's standing there doing the dishes . she's washing the dishes looking out the open window . and the water's running down over the sink on the floor getting her feet wet . and she's drying a dish . and there are a couple of dishes sitting on the kitchen counter . and looking out the window it's probably in the spring or summer of the year .\""
      ]
     },
     "execution_count": 22,
     "metadata": {},
     "output_type": "execute_result"
    }
   ],
   "source": [
    "df.iloc[5].clean"
   ]
  },
  {
   "cell_type": "markdown",
   "metadata": {},
   "source": [
    "Reorder columns"
   ]
  },
  {
   "cell_type": "code",
   "execution_count": 23,
   "metadata": {},
   "outputs": [
    {
     "data": {
      "text/html": [
       "<div>\n",
       "<style scoped>\n",
       "    .dataframe tbody tr th:only-of-type {\n",
       "        vertical-align: middle;\n",
       "    }\n",
       "\n",
       "    .dataframe tbody tr th {\n",
       "        vertical-align: top;\n",
       "    }\n",
       "\n",
       "    .dataframe thead th {\n",
       "        text-align: right;\n",
       "    }\n",
       "</style>\n",
       "<table border=\"1\" class=\"dataframe\">\n",
       "  <thead>\n",
       "    <tr style=\"text-align: right;\">\n",
       "      <th></th>\n",
       "      <th>group</th>\n",
       "      <th>sentences</th>\n",
       "      <th>sentences_clean</th>\n",
       "      <th>text</th>\n",
       "      <th>clean</th>\n",
       "    </tr>\n",
       "  </thead>\n",
       "  <tbody>\n",
       "    <tr>\n",
       "      <th>0</th>\n",
       "      <td>control</td>\n",
       "      <td>[the scene is &lt;in the&gt; [/] in the kitchen . , ...</td>\n",
       "      <td>[the scene is in the kitchen ., the mother is ...</td>\n",
       "      <td>the scene is &lt;in the&gt; [/] in the kitchen .  th...</td>\n",
       "      <td>the scene is in the kitchen . the mother is wi...</td>\n",
       "    </tr>\n",
       "    <tr>\n",
       "      <th>1</th>\n",
       "      <td>control</td>\n",
       "      <td>[oh I see the sink is running over . , I see t...</td>\n",
       "      <td>[oh I see the sink is running over ., I see th...</td>\n",
       "      <td>oh I see the sink is running over .  I see the...</td>\n",
       "      <td>oh I see the sink is running over . I see the ...</td>\n",
       "    </tr>\n",
       "    <tr>\n",
       "      <th>2</th>\n",
       "      <td>control</td>\n",
       "      <td>[&amp;um a boy and a girl are in the kitchen with ...</td>\n",
       "      <td>[a boy and a girl are in the kitchen with thei...</td>\n",
       "      <td>&amp;um a boy and a girl are in the kitchen with t...</td>\n",
       "      <td>a boy and a girl are in the kitchen with their...</td>\n",
       "    </tr>\n",
       "    <tr>\n",
       "      <th>3</th>\n",
       "      <td>control</td>\n",
       "      <td>[okay . [+ exc] , it was summertime and mother...</td>\n",
       "      <td>[okay ., it was summertime and mother and the ...</td>\n",
       "      <td>okay . [+ exc]  it was summertime and mother a...</td>\n",
       "      <td>okay . it was summertime and mother and the ch...</td>\n",
       "    </tr>\n",
       "    <tr>\n",
       "      <th>4</th>\n",
       "      <td>control</td>\n",
       "      <td>[&amp;=clears:throat wait (un)til I put my glasses...</td>\n",
       "      <td>[wait until I put my glasses on ., oh ‡ there'...</td>\n",
       "      <td>&amp;=clears:throat wait (un)til I put my glasses ...</td>\n",
       "      <td>wait until I put my glasses on . oh ‡ there's ...</td>\n",
       "    </tr>\n",
       "  </tbody>\n",
       "</table>\n",
       "</div>"
      ],
      "text/plain": [
       "     group                                          sentences  \\\n",
       "0  control  [the scene is <in the> [/] in the kitchen . , ...   \n",
       "1  control  [oh I see the sink is running over . , I see t...   \n",
       "2  control  [&um a boy and a girl are in the kitchen with ...   \n",
       "3  control  [okay . [+ exc] , it was summertime and mother...   \n",
       "4  control  [&=clears:throat wait (un)til I put my glasses...   \n",
       "\n",
       "                                     sentences_clean  \\\n",
       "0  [the scene is in the kitchen ., the mother is ...   \n",
       "1  [oh I see the sink is running over ., I see th...   \n",
       "2  [a boy and a girl are in the kitchen with thei...   \n",
       "3  [okay ., it was summertime and mother and the ...   \n",
       "4  [wait until I put my glasses on ., oh ‡ there'...   \n",
       "\n",
       "                                                text  \\\n",
       "0  the scene is <in the> [/] in the kitchen .  th...   \n",
       "1  oh I see the sink is running over .  I see the...   \n",
       "2  &um a boy and a girl are in the kitchen with t...   \n",
       "3  okay . [+ exc]  it was summertime and mother a...   \n",
       "4  &=clears:throat wait (un)til I put my glasses ...   \n",
       "\n",
       "                                               clean  \n",
       "0  the scene is in the kitchen . the mother is wi...  \n",
       "1  oh I see the sink is running over . I see the ...  \n",
       "2  a boy and a girl are in the kitchen with their...  \n",
       "3  okay . it was summertime and mother and the ch...  \n",
       "4  wait until I put my glasses on . oh ‡ there's ...  "
      ]
     },
     "execution_count": 23,
     "metadata": {},
     "output_type": "execute_result"
    }
   ],
   "source": [
    "df = df[['group', 'sentences', 'sentences_clean', 'text', 'clean']]\n",
    "df.head()"
   ]
  },
  {
   "cell_type": "markdown",
   "metadata": {},
   "source": [
    "### Save to `csv`"
   ]
  },
  {
   "cell_type": "code",
   "execution_count": 24,
   "metadata": {},
   "outputs": [],
   "source": [
    "model_path = pitt_path.parent/'models'\n",
    "model_path.mkdir(exist_ok=True)"
   ]
  },
  {
   "cell_type": "code",
   "execution_count": 25,
   "metadata": {},
   "outputs": [],
   "source": [
    "df.to_csv(model_path/'pitt-cookie-complete.csv')"
   ]
  },
  {
   "cell_type": "markdown",
   "metadata": {},
   "source": [
    "There are some weird ones. Perhaps more pre-processing would be in order."
   ]
  },
  {
   "cell_type": "code",
   "execution_count": 36,
   "metadata": {},
   "outputs": [
    {
     "data": {
      "text/plain": [
       "\"this is the one where I insisted the tree doesn't have a trunk and I still think that tree doesn't have a trunk . okay what do you want me to do ? tell a /? this is a tree and if it had a trunk it would continue . this is the top sash of the window and it hasta have a trunk down here and that's just grass . so what /? well what's this ? isn't that a tree ? looks like a tree to me . okay what do you want me to //? all the action ? okay . there's a little boy in short pants with short sleeves who has a cookie in his left hand handing it to a little girl and grabbing another one . and the lid is falling off the cookie jar . and the stool is upsetting . and it's a three legged stool . and the little girl is shushing because the mother is standing there in a puddle of water with the water overflowing out_of the drain . and she's wiping a dish instead of the mess . and she's wearing an apron and she has on sleeveless clothes . I don't know . I could go on . there are two cups and a plate and she's drying another plate . and she has short hair that's parted on the left hand side . and the little boy has a high pompadour . and the little girl has long hair and a low waisted dress . how long should I go on ?\""
      ]
     },
     "execution_count": 36,
     "metadata": {},
     "output_type": "execute_result"
    }
   ],
   "source": [
    "df.iloc[13].clean"
   ]
  }
 ],
 "metadata": {
  "kernelspec": {
   "display_name": "Python 3",
   "language": "python",
   "name": "python3"
  },
  "language_info": {
   "codemirror_mode": {
    "name": "ipython",
    "version": 3
   },
   "file_extension": ".py",
   "mimetype": "text/x-python",
   "name": "python",
   "nbconvert_exporter": "python",
   "pygments_lexer": "ipython3",
   "version": "3.7.2"
  }
 },
 "nbformat": 4,
 "nbformat_minor": 2
}
