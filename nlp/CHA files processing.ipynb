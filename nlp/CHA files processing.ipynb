{
 "cells": [
  {
   "cell_type": "code",
   "execution_count": 2,
   "metadata": {},
   "outputs": [],
   "source": [
    "import pylangacq as pla\n",
    "import pandas as pd"
   ]
  },
  {
   "cell_type": "markdown",
   "metadata": {},
   "source": [
    "## Reading CHAT data"
   ]
  },
  {
   "cell_type": "code",
   "execution_count": 2,
   "metadata": {},
   "outputs": [],
   "source": [
    "eve = pla.read_chat('../data/Pitt/Control/cookie/*.cha', encoding = 'utf-8')"
   ]
  },
  {
   "cell_type": "code",
   "execution_count": 3,
   "metadata": {
    "collapsed": true
   },
   "outputs": [
    {
     "data": {
      "text/plain": [
       "{'/home/pedro/code/fast.ai/alzheimer/data/Pitt/Control/cookie/150-0.cha': 14,\n",
       " '/home/pedro/code/fast.ai/alzheimer/data/Pitt/Control/cookie/015-3.cha': 24,\n",
       " '/home/pedro/code/fast.ai/alzheimer/data/Pitt/Control/cookie/323-0.cha': 25,\n",
       " '/home/pedro/code/fast.ai/alzheimer/data/Pitt/Control/cookie/175-1.cha': 16,\n",
       " '/home/pedro/code/fast.ai/alzheimer/data/Pitt/Control/cookie/034-0.cha': 19,\n",
       " '/home/pedro/code/fast.ai/alzheimer/data/Pitt/Control/cookie/068-3.cha': 9,\n",
       " '/home/pedro/code/fast.ai/alzheimer/data/Pitt/Control/cookie/302-0.cha': 11,\n",
       " '/home/pedro/code/fast.ai/alzheimer/data/Pitt/Control/cookie/182-3.cha': 13,\n",
       " '/home/pedro/code/fast.ai/alzheimer/data/Pitt/Control/cookie/248-2.cha': 8,\n",
       " '/home/pedro/code/fast.ai/alzheimer/data/Pitt/Control/cookie/295-1.cha': 6,\n",
       " '/home/pedro/code/fast.ai/alzheimer/data/Pitt/Control/cookie/093-1.cha': 10,\n",
       " '/home/pedro/code/fast.ai/alzheimer/data/Pitt/Control/cookie/140-3.cha': 12,\n",
       " '/home/pedro/code/fast.ai/alzheimer/data/Pitt/Control/cookie/086-1.cha': 16,\n",
       " '/home/pedro/code/fast.ai/alzheimer/data/Pitt/Control/cookie/150-1.cha': 16,\n",
       " '/home/pedro/code/fast.ai/alzheimer/data/Pitt/Control/cookie/130-1.cha': 7,\n",
       " '/home/pedro/code/fast.ai/alzheimer/data/Pitt/Control/cookie/114-1.cha': 12,\n",
       " '/home/pedro/code/fast.ai/alzheimer/data/Pitt/Control/cookie/340-0.cha': 15,\n",
       " '/home/pedro/code/fast.ai/alzheimer/data/Pitt/Control/cookie/121-4.cha': 23,\n",
       " '/home/pedro/code/fast.ai/alzheimer/data/Pitt/Control/cookie/242-0.cha': 14,\n",
       " '/home/pedro/code/fast.ai/alzheimer/data/Pitt/Control/cookie/232-0.cha': 22,\n",
       " '/home/pedro/code/fast.ai/alzheimer/data/Pitt/Control/cookie/661-0.cha': 16,\n",
       " '/home/pedro/code/fast.ai/alzheimer/data/Pitt/Control/cookie/109-3.cha': 14,\n",
       " '/home/pedro/code/fast.ai/alzheimer/data/Pitt/Control/cookie/266-1.cha': 15,\n",
       " '/home/pedro/code/fast.ai/alzheimer/data/Pitt/Control/cookie/137-0.cha': 27,\n",
       " '/home/pedro/code/fast.ai/alzheimer/data/Pitt/Control/cookie/017-4.cha': 34,\n",
       " '/home/pedro/code/fast.ai/alzheimer/data/Pitt/Control/cookie/021-1.cha': 16,\n",
       " '/home/pedro/code/fast.ai/alzheimer/data/Pitt/Control/cookie/114-4.cha': 15,\n",
       " '/home/pedro/code/fast.ai/alzheimer/data/Pitt/Control/cookie/114-3.cha': 9,\n",
       " '/home/pedro/code/fast.ai/alzheimer/data/Pitt/Control/cookie/107-1.cha': 15,\n",
       " '/home/pedro/code/fast.ai/alzheimer/data/Pitt/Control/cookie/192-2.cha': 17,\n",
       " '/home/pedro/code/fast.ai/alzheimer/data/Pitt/Control/cookie/227-0.cha': 26,\n",
       " '/home/pedro/code/fast.ai/alzheimer/data/Pitt/Control/cookie/118-2.cha': 13,\n",
       " '/home/pedro/code/fast.ai/alzheimer/data/Pitt/Control/cookie/109-4.cha': 23,\n",
       " '/home/pedro/code/fast.ai/alzheimer/data/Pitt/Control/cookie/045-2.cha': 20,\n",
       " '/home/pedro/code/fast.ai/alzheimer/data/Pitt/Control/cookie/073-3.cha': 16,\n",
       " '/home/pedro/code/fast.ai/alzheimer/data/Pitt/Control/cookie/121-0.cha': 20,\n",
       " '/home/pedro/code/fast.ai/alzheimer/data/Pitt/Control/cookie/113-3.cha': 12,\n",
       " '/home/pedro/code/fast.ai/alzheimer/data/Pitt/Control/cookie/158-0.cha': 19,\n",
       " '/home/pedro/code/fast.ai/alzheimer/data/Pitt/Control/cookie/296-1.cha': 19,\n",
       " '/home/pedro/code/fast.ai/alzheimer/data/Pitt/Control/cookie/034-3.cha': 16,\n",
       " '/home/pedro/code/fast.ai/alzheimer/data/Pitt/Control/cookie/006-4.cha': 16,\n",
       " '/home/pedro/code/fast.ai/alzheimer/data/Pitt/Control/cookie/093-0.cha': 27,\n",
       " '/home/pedro/code/fast.ai/alzheimer/data/Pitt/Control/cookie/296-2.cha': 19,\n",
       " '/home/pedro/code/fast.ai/alzheimer/data/Pitt/Control/cookie/275-0.cha': 20,\n",
       " '/home/pedro/code/fast.ai/alzheimer/data/Pitt/Control/cookie/086-3.cha': 22,\n",
       " '/home/pedro/code/fast.ai/alzheimer/data/Pitt/Control/cookie/013-3.cha': 16,\n",
       " '/home/pedro/code/fast.ai/alzheimer/data/Pitt/Control/cookie/167-2.cha': 13,\n",
       " '/home/pedro/code/fast.ai/alzheimer/data/Pitt/Control/cookie/678-0.cha': 14,\n",
       " '/home/pedro/code/fast.ai/alzheimer/data/Pitt/Control/cookie/256-2.cha': 24,\n",
       " '/home/pedro/code/fast.ai/alzheimer/data/Pitt/Control/cookie/229-1.cha': 9,\n",
       " '/home/pedro/code/fast.ai/alzheimer/data/Pitt/Control/cookie/086-0.cha': 33,\n",
       " '/home/pedro/code/fast.ai/alzheimer/data/Pitt/Control/cookie/192-0.cha': 9,\n",
       " '/home/pedro/code/fast.ai/alzheimer/data/Pitt/Control/cookie/256-1.cha': 10,\n",
       " '/home/pedro/code/fast.ai/alzheimer/data/Pitt/Control/cookie/175-0.cha': 25,\n",
       " '/home/pedro/code/fast.ai/alzheimer/data/Pitt/Control/cookie/709-2.cha': 20,\n",
       " '/home/pedro/code/fast.ai/alzheimer/data/Pitt/Control/cookie/280-1.cha': 11,\n",
       " '/home/pedro/code/fast.ai/alzheimer/data/Pitt/Control/cookie/137-3.cha': 15,\n",
       " '/home/pedro/code/fast.ai/alzheimer/data/Pitt/Control/cookie/266-0.cha': 11,\n",
       " '/home/pedro/code/fast.ai/alzheimer/data/Pitt/Control/cookie/227-1.cha': 25,\n",
       " '/home/pedro/code/fast.ai/alzheimer/data/Pitt/Control/cookie/275-1.cha': 13,\n",
       " '/home/pedro/code/fast.ai/alzheimer/data/Pitt/Control/cookie/167-1.cha': 9,\n",
       " '/home/pedro/code/fast.ai/alzheimer/data/Pitt/Control/cookie/021-3.cha': 15,\n",
       " '/home/pedro/code/fast.ai/alzheimer/data/Pitt/Control/cookie/055-0.cha': 21,\n",
       " '/home/pedro/code/fast.ai/alzheimer/data/Pitt/Control/cookie/155-2.cha': 20,\n",
       " '/home/pedro/code/fast.ai/alzheimer/data/Pitt/Control/cookie/158-1.cha': 22,\n",
       " '/home/pedro/code/fast.ai/alzheimer/data/Pitt/Control/cookie/068-2.cha': 10,\n",
       " '/home/pedro/code/fast.ai/alzheimer/data/Pitt/Control/cookie/141-0.cha': 14,\n",
       " '/home/pedro/code/fast.ai/alzheimer/data/Pitt/Control/cookie/145-3.cha': 20,\n",
       " '/home/pedro/code/fast.ai/alzheimer/data/Pitt/Control/cookie/113-1.cha': 16,\n",
       " '/home/pedro/code/fast.ai/alzheimer/data/Pitt/Control/cookie/175-3.cha': 11,\n",
       " '/home/pedro/code/fast.ai/alzheimer/data/Pitt/Control/cookie/121-2.cha': 24,\n",
       " '/home/pedro/code/fast.ai/alzheimer/data/Pitt/Control/cookie/128-2.cha': 30,\n",
       " '/home/pedro/code/fast.ai/alzheimer/data/Pitt/Control/cookie/242-2.cha': 27,\n",
       " '/home/pedro/code/fast.ai/alzheimer/data/Pitt/Control/cookie/015-0.cha': 30,\n",
       " '/home/pedro/code/fast.ai/alzheimer/data/Pitt/Control/cookie/071-4.cha': 16,\n",
       " '/home/pedro/code/fast.ai/alzheimer/data/Pitt/Control/cookie/243-1.cha': 19,\n",
       " '/home/pedro/code/fast.ai/alzheimer/data/Pitt/Control/cookie/022-2.cha': 11,\n",
       " '/home/pedro/code/fast.ai/alzheimer/data/Pitt/Control/cookie/073-0.cha': 20,\n",
       " '/home/pedro/code/fast.ai/alzheimer/data/Pitt/Control/cookie/128-3.cha': 39,\n",
       " '/home/pedro/code/fast.ai/alzheimer/data/Pitt/Control/cookie/142-0.cha': 17,\n",
       " '/home/pedro/code/fast.ai/alzheimer/data/Pitt/Control/cookie/684-0.cha': 24,\n",
       " '/home/pedro/code/fast.ai/alzheimer/data/Pitt/Control/cookie/146-1.cha': 19,\n",
       " '/home/pedro/code/fast.ai/alzheimer/data/Pitt/Control/cookie/118-0.cha': 10,\n",
       " '/home/pedro/code/fast.ai/alzheimer/data/Pitt/Control/cookie/013-4.cha': 19,\n",
       " '/home/pedro/code/fast.ai/alzheimer/data/Pitt/Control/cookie/132-0.cha': 17,\n",
       " '/home/pedro/code/fast.ai/alzheimer/data/Pitt/Control/cookie/071-0.cha': 23,\n",
       " '/home/pedro/code/fast.ai/alzheimer/data/Pitt/Control/cookie/709-0.cha': 16,\n",
       " '/home/pedro/code/fast.ai/alzheimer/data/Pitt/Control/cookie/059-3.cha': 10,\n",
       " '/home/pedro/code/fast.ai/alzheimer/data/Pitt/Control/cookie/318-2.cha': 10,\n",
       " '/home/pedro/code/fast.ai/alzheimer/data/Pitt/Control/cookie/059-2.cha': 11,\n",
       " '/home/pedro/code/fast.ai/alzheimer/data/Pitt/Control/cookie/021-4.cha': 14,\n",
       " '/home/pedro/code/fast.ai/alzheimer/data/Pitt/Control/cookie/068-0.cha': 12,\n",
       " '/home/pedro/code/fast.ai/alzheimer/data/Pitt/Control/cookie/015-4.cha': 22,\n",
       " '/home/pedro/code/fast.ai/alzheimer/data/Pitt/Control/cookie/096-1.cha': 20,\n",
       " '/home/pedro/code/fast.ai/alzheimer/data/Pitt/Control/cookie/210-1.cha': 25,\n",
       " '/home/pedro/code/fast.ai/alzheimer/data/Pitt/Control/cookie/158-2.cha': 16,\n",
       " '/home/pedro/code/fast.ai/alzheimer/data/Pitt/Control/cookie/245-1.cha': 17,\n",
       " '/home/pedro/code/fast.ai/alzheimer/data/Pitt/Control/cookie/150-2.cha': 20,\n",
       " '/home/pedro/code/fast.ai/alzheimer/data/Pitt/Control/cookie/015-2.cha': 35,\n",
       " '/home/pedro/code/fast.ai/alzheimer/data/Pitt/Control/cookie/691-0.cha': 20,\n",
       " '/home/pedro/code/fast.ai/alzheimer/data/Pitt/Control/cookie/686-0.cha': 14,\n",
       " '/home/pedro/code/fast.ai/alzheimer/data/Pitt/Control/cookie/172-0.cha': 22,\n",
       " '/home/pedro/code/fast.ai/alzheimer/data/Pitt/Control/cookie/052-2.cha': 4,\n",
       " '/home/pedro/code/fast.ai/alzheimer/data/Pitt/Control/cookie/129-1.cha': 15,\n",
       " '/home/pedro/code/fast.ai/alzheimer/data/Pitt/Control/cookie/138-3.cha': 13,\n",
       " '/home/pedro/code/fast.ai/alzheimer/data/Pitt/Control/cookie/056-0.cha': 15,\n",
       " '/home/pedro/code/fast.ai/alzheimer/data/Pitt/Control/cookie/336-1.cha': 20,\n",
       " '/home/pedro/code/fast.ai/alzheimer/data/Pitt/Control/cookie/006-3.cha': 14,\n",
       " '/home/pedro/code/fast.ai/alzheimer/data/Pitt/Control/cookie/132-1.cha': 16,\n",
       " '/home/pedro/code/fast.ai/alzheimer/data/Pitt/Control/cookie/105-0.cha': 15,\n",
       " '/home/pedro/code/fast.ai/alzheimer/data/Pitt/Control/cookie/141-3.cha': 23,\n",
       " '/home/pedro/code/fast.ai/alzheimer/data/Pitt/Control/cookie/166-0.cha': 8,\n",
       " '/home/pedro/code/fast.ai/alzheimer/data/Pitt/Control/cookie/130-3.cha': 8,\n",
       " '/home/pedro/code/fast.ai/alzheimer/data/Pitt/Control/cookie/196-1.cha': 15,\n",
       " '/home/pedro/code/fast.ai/alzheimer/data/Pitt/Control/cookie/028-4.cha': 14,\n",
       " '/home/pedro/code/fast.ai/alzheimer/data/Pitt/Control/cookie/121-3.cha': 22,\n",
       " '/home/pedro/code/fast.ai/alzheimer/data/Pitt/Control/cookie/114-0.cha': 18,\n",
       " '/home/pedro/code/fast.ai/alzheimer/data/Pitt/Control/cookie/155-0.cha': 10,\n",
       " '/home/pedro/code/fast.ai/alzheimer/data/Pitt/Control/cookie/612-0.cha': 16,\n",
       " '/home/pedro/code/fast.ai/alzheimer/data/Pitt/Control/cookie/245-0.cha': 10,\n",
       " '/home/pedro/code/fast.ai/alzheimer/data/Pitt/Control/cookie/631-0.cha': 10,\n",
       " '/home/pedro/code/fast.ai/alzheimer/data/Pitt/Control/cookie/105-2.cha': 23,\n",
       " '/home/pedro/code/fast.ai/alzheimer/data/Pitt/Control/cookie/211-1.cha': 16,\n",
       " '/home/pedro/code/fast.ai/alzheimer/data/Pitt/Control/cookie/232-1.cha': 18,\n",
       " '/home/pedro/code/fast.ai/alzheimer/data/Pitt/Control/cookie/143-3.cha': 8,\n",
       " '/home/pedro/code/fast.ai/alzheimer/data/Pitt/Control/cookie/142-1.cha': 14,\n",
       " '/home/pedro/code/fast.ai/alzheimer/data/Pitt/Control/cookie/322-2.cha': 10,\n",
       " '/home/pedro/code/fast.ai/alzheimer/data/Pitt/Control/cookie/056-4.cha': 10,\n",
       " '/home/pedro/code/fast.ai/alzheimer/data/Pitt/Control/cookie/318-0.cha': 13,\n",
       " '/home/pedro/code/fast.ai/alzheimer/data/Pitt/Control/cookie/022-1.cha': 9,\n",
       " '/home/pedro/code/fast.ai/alzheimer/data/Pitt/Control/cookie/627-0.cha': 16,\n",
       " '/home/pedro/code/fast.ai/alzheimer/data/Pitt/Control/cookie/171-0.cha': 10,\n",
       " '/home/pedro/code/fast.ai/alzheimer/data/Pitt/Control/cookie/071-1.cha': 22,\n",
       " '/home/pedro/code/fast.ai/alzheimer/data/Pitt/Control/cookie/298-1.cha': 15,\n",
       " '/home/pedro/code/fast.ai/alzheimer/data/Pitt/Control/cookie/054-0.cha': 15,\n",
       " '/home/pedro/code/fast.ai/alzheimer/data/Pitt/Control/cookie/073-1.cha': 8,\n",
       " '/home/pedro/code/fast.ai/alzheimer/data/Pitt/Control/cookie/107-2.cha': 9,\n",
       " '/home/pedro/code/fast.ai/alzheimer/data/Pitt/Control/cookie/248-0.cha': 19,\n",
       " '/home/pedro/code/fast.ai/alzheimer/data/Pitt/Control/cookie/096-2.cha': 20,\n",
       " '/home/pedro/code/fast.ai/alzheimer/data/Pitt/Control/cookie/013-2.cha': 15,\n",
       " '/home/pedro/code/fast.ai/alzheimer/data/Pitt/Control/cookie/006-2.cha': 16,\n",
       " '/home/pedro/code/fast.ai/alzheimer/data/Pitt/Control/cookie/002-3.cha': 14,\n",
       " '/home/pedro/code/fast.ai/alzheimer/data/Pitt/Control/cookie/015-1.cha': 25,\n",
       " '/home/pedro/code/fast.ai/alzheimer/data/Pitt/Control/cookie/138-1.cha': 18,\n",
       " '/home/pedro/code/fast.ai/alzheimer/data/Pitt/Control/cookie/071-3.cha': 25,\n",
       " '/home/pedro/code/fast.ai/alzheimer/data/Pitt/Control/cookie/124-0.cha': 17,\n",
       " '/home/pedro/code/fast.ai/alzheimer/data/Pitt/Control/cookie/092-2.cha': 7,\n",
       " '/home/pedro/code/fast.ai/alzheimer/data/Pitt/Control/cookie/121-1.cha': 29,\n",
       " '/home/pedro/code/fast.ai/alzheimer/data/Pitt/Control/cookie/139-3.cha': 6,\n",
       " '/home/pedro/code/fast.ai/alzheimer/data/Pitt/Control/cookie/052-0.cha': 16,\n",
       " '/home/pedro/code/fast.ai/alzheimer/data/Pitt/Control/cookie/267-0.cha': 8,\n",
       " '/home/pedro/code/fast.ai/alzheimer/data/Pitt/Control/cookie/248-1.cha': 16,\n",
       " '/home/pedro/code/fast.ai/alzheimer/data/Pitt/Control/cookie/318-1.cha': 10,\n",
       " '/home/pedro/code/fast.ai/alzheimer/data/Pitt/Control/cookie/113-0.cha': 14,\n",
       " '/home/pedro/code/fast.ai/alzheimer/data/Pitt/Control/cookie/021-2.cha': 12,\n",
       " '/home/pedro/code/fast.ai/alzheimer/data/Pitt/Control/cookie/274-2.cha': 8,\n",
       " '/home/pedro/code/fast.ai/alzheimer/data/Pitt/Control/cookie/042-4.cha': 11,\n",
       " '/home/pedro/code/fast.ai/alzheimer/data/Pitt/Control/cookie/022-0.cha': 16,\n",
       " '/home/pedro/code/fast.ai/alzheimer/data/Pitt/Control/cookie/130-2.cha': 10,\n",
       " '/home/pedro/code/fast.ai/alzheimer/data/Pitt/Control/cookie/196-0.cha': 15,\n",
       " '/home/pedro/code/fast.ai/alzheimer/data/Pitt/Control/cookie/332-0.cha': 7,\n",
       " '/home/pedro/code/fast.ai/alzheimer/data/Pitt/Control/cookie/225-0.cha': 17,\n",
       " '/home/pedro/code/fast.ai/alzheimer/data/Pitt/Control/cookie/002-2.cha': 18,\n",
       " '/home/pedro/code/fast.ai/alzheimer/data/Pitt/Control/cookie/295-0.cha': 13,\n",
       " '/home/pedro/code/fast.ai/alzheimer/data/Pitt/Control/cookie/128-1.cha': 22,\n",
       " '/home/pedro/code/fast.ai/alzheimer/data/Pitt/Control/cookie/280-2.cha': 15,\n",
       " '/home/pedro/code/fast.ai/alzheimer/data/Pitt/Control/cookie/211-2.cha': 16,\n",
       " '/home/pedro/code/fast.ai/alzheimer/data/Pitt/Control/cookie/304-1.cha': 6,\n",
       " '/home/pedro/code/fast.ai/alzheimer/data/Pitt/Control/cookie/210-2.cha': 24,\n",
       " '/home/pedro/code/fast.ai/alzheimer/data/Pitt/Control/cookie/166-2.cha': 15,\n",
       " '/home/pedro/code/fast.ai/alzheimer/data/Pitt/Control/cookie/092-3.cha': 10,\n",
       " '/home/pedro/code/fast.ai/alzheimer/data/Pitt/Control/cookie/042-1.cha': 19,\n",
       " '/home/pedro/code/fast.ai/alzheimer/data/Pitt/Control/cookie/141-2.cha': 12,\n",
       " '/home/pedro/code/fast.ai/alzheimer/data/Pitt/Control/cookie/071-2.cha': 25,\n",
       " '/home/pedro/code/fast.ai/alzheimer/data/Pitt/Control/cookie/208-0.cha': 12,\n",
       " '/home/pedro/code/fast.ai/alzheimer/data/Pitt/Control/cookie/245-2.cha': 19,\n",
       " '/home/pedro/code/fast.ai/alzheimer/data/Pitt/Control/cookie/242-1.cha': 22,\n",
       " '/home/pedro/code/fast.ai/alzheimer/data/Pitt/Control/cookie/296-0.cha': 8,\n",
       " '/home/pedro/code/fast.ai/alzheimer/data/Pitt/Control/cookie/297-1.cha': 9,\n",
       " '/home/pedro/code/fast.ai/alzheimer/data/Pitt/Control/cookie/142-3.cha': 14,\n",
       " '/home/pedro/code/fast.ai/alzheimer/data/Pitt/Control/cookie/292-1.cha': 15,\n",
       " '/home/pedro/code/fast.ai/alzheimer/data/Pitt/Control/cookie/045-0.cha': 23,\n",
       " '/home/pedro/code/fast.ai/alzheimer/data/Pitt/Control/cookie/209-2.cha': 15,\n",
       " '/home/pedro/code/fast.ai/alzheimer/data/Pitt/Control/cookie/323-1.cha': 17,\n",
       " '/home/pedro/code/fast.ai/alzheimer/data/Pitt/Control/cookie/304-2.cha': 13,\n",
       " '/home/pedro/code/fast.ai/alzheimer/data/Pitt/Control/cookie/158-3.cha': 13,\n",
       " '/home/pedro/code/fast.ai/alzheimer/data/Pitt/Control/cookie/056-3.cha': 9,\n",
       " '/home/pedro/code/fast.ai/alzheimer/data/Pitt/Control/cookie/322-1.cha': 12,\n",
       " '/home/pedro/code/fast.ai/alzheimer/data/Pitt/Control/cookie/280-0.cha': 27,\n",
       " '/home/pedro/code/fast.ai/alzheimer/data/Pitt/Control/cookie/297-2.cha': 14,\n",
       " '/home/pedro/code/fast.ai/alzheimer/data/Pitt/Control/cookie/139-1.cha': 11,\n",
       " '/home/pedro/code/fast.ai/alzheimer/data/Pitt/Control/cookie/299-1.cha': 14,\n",
       " '/home/pedro/code/fast.ai/alzheimer/data/Pitt/Control/cookie/105-1.cha': 16,\n",
       " '/home/pedro/code/fast.ai/alzheimer/data/Pitt/Control/cookie/255-1.cha': 3,\n",
       " '/home/pedro/code/fast.ai/alzheimer/data/Pitt/Control/cookie/118-3.cha': 13,\n",
       " '/home/pedro/code/fast.ai/alzheimer/data/Pitt/Control/cookie/045-3.cha': 18,\n",
       " '/home/pedro/code/fast.ai/alzheimer/data/Pitt/Control/cookie/668-0.cha': 19,\n",
       " '/home/pedro/code/fast.ai/alzheimer/data/Pitt/Control/cookie/688-0.cha': 14,\n",
       " '/home/pedro/code/fast.ai/alzheimer/data/Pitt/Control/cookie/137-1.cha': 15,\n",
       " '/home/pedro/code/fast.ai/alzheimer/data/Pitt/Control/cookie/042-3.cha': 12,\n",
       " '/home/pedro/code/fast.ai/alzheimer/data/Pitt/Control/cookie/155-3.cha': 9,\n",
       " '/home/pedro/code/fast.ai/alzheimer/data/Pitt/Control/cookie/209-3.cha': 26,\n",
       " '/home/pedro/code/fast.ai/alzheimer/data/Pitt/Control/cookie/175-2.cha': 23,\n",
       " '/home/pedro/code/fast.ai/alzheimer/data/Pitt/Control/cookie/145-1.cha': 19,\n",
       " '/home/pedro/code/fast.ai/alzheimer/data/Pitt/Control/cookie/139-0.cha': 19,\n",
       " '/home/pedro/code/fast.ai/alzheimer/data/Pitt/Control/cookie/255-0.cha': 11,\n",
       " '/home/pedro/code/fast.ai/alzheimer/data/Pitt/Control/cookie/267-2.cha': 13,\n",
       " '/home/pedro/code/fast.ai/alzheimer/data/Pitt/Control/cookie/266-2.cha': 24,\n",
       " '/home/pedro/code/fast.ai/alzheimer/data/Pitt/Control/cookie/002-0.cha': 21,\n",
       " '/home/pedro/code/fast.ai/alzheimer/data/Pitt/Control/cookie/114-2.cha': 15,\n",
       " '/home/pedro/code/fast.ai/alzheimer/data/Pitt/Control/cookie/092-0.cha': 10,\n",
       " '/home/pedro/code/fast.ai/alzheimer/data/Pitt/Control/cookie/208-1.cha': 8,\n",
       " '/home/pedro/code/fast.ai/alzheimer/data/Pitt/Control/cookie/086-2.cha': 16,\n",
       " '/home/pedro/code/fast.ai/alzheimer/data/Pitt/Control/cookie/034-4.cha': 19,\n",
       " '/home/pedro/code/fast.ai/alzheimer/data/Pitt/Control/cookie/256-0.cha': 20,\n",
       " '/home/pedro/code/fast.ai/alzheimer/data/Pitt/Control/cookie/109-1.cha': 20,\n",
       " '/home/pedro/code/fast.ai/alzheimer/data/Pitt/Control/cookie/021-0.cha': 16,\n",
       " '/home/pedro/code/fast.ai/alzheimer/data/Pitt/Control/cookie/034-2.cha': 15,\n",
       " '/home/pedro/code/fast.ai/alzheimer/data/Pitt/Control/cookie/167-3.cha': 22,\n",
       " '/home/pedro/code/fast.ai/alzheimer/data/Pitt/Control/cookie/274-1.cha': 10,\n",
       " '/home/pedro/code/fast.ai/alzheimer/data/Pitt/Control/cookie/208-2.cha': 16,\n",
       " '/home/pedro/code/fast.ai/alzheimer/data/Pitt/Control/cookie/113-2.cha': 20,\n",
       " '/home/pedro/code/fast.ai/alzheimer/data/Pitt/Control/cookie/028-1.cha': 25,\n",
       " '/home/pedro/code/fast.ai/alzheimer/data/Pitt/Control/cookie/243-0.cha': 24,\n",
       " '/home/pedro/code/fast.ai/alzheimer/data/Pitt/Control/cookie/225-2.cha': 17,\n",
       " '/home/pedro/code/fast.ai/alzheimer/data/Pitt/Control/cookie/124-1.cha': 24,\n",
       " '/home/pedro/code/fast.ai/alzheimer/data/Pitt/Control/cookie/118-1.cha': 12,\n",
       " '/home/pedro/code/fast.ai/alzheimer/data/Pitt/Control/cookie/034-1.cha': 11,\n",
       " '/home/pedro/code/fast.ai/alzheimer/data/Pitt/Control/cookie/086-4.cha': 22,\n",
       " '/home/pedro/code/fast.ai/alzheimer/data/Pitt/Control/cookie/137-2.cha': 12,\n",
       " '/home/pedro/code/fast.ai/alzheimer/data/Pitt/Control/cookie/013-0.cha': 16,\n",
       " '/home/pedro/code/fast.ai/alzheimer/data/Pitt/Control/cookie/166-1.cha': 20,\n",
       " '/home/pedro/code/fast.ai/alzheimer/data/Pitt/Control/cookie/171-1.cha': 9,\n",
       " '/home/pedro/code/fast.ai/alzheimer/data/Pitt/Control/cookie/002-1.cha': 20,\n",
       " '/home/pedro/code/fast.ai/alzheimer/data/Pitt/Control/cookie/140-0.cha': 24,\n",
       " '/home/pedro/code/fast.ai/alzheimer/data/Pitt/Control/cookie/118-4.cha': 11,\n",
       " '/home/pedro/code/fast.ai/alzheimer/data/Pitt/Control/cookie/274-0.cha': 18,\n",
       " '/home/pedro/code/fast.ai/alzheimer/data/Pitt/Control/cookie/209-1.cha': 11,\n",
       " '/home/pedro/code/fast.ai/alzheimer/data/Pitt/Control/cookie/229-2.cha': 8,\n",
       " '/home/pedro/code/fast.ai/alzheimer/data/Pitt/Control/cookie/059-4.cha': 11,\n",
       " '/home/pedro/code/fast.ai/alzheimer/data/Pitt/Control/cookie/141-1.cha': 8,\n",
       " '/home/pedro/code/fast.ai/alzheimer/data/Pitt/Control/cookie/092-1.cha': 19,\n",
       " '/home/pedro/code/fast.ai/alzheimer/data/Pitt/Control/cookie/042-2.cha': 11}"
      ]
     },
     "execution_count": 3,
     "metadata": {},
     "output_type": "execute_result"
    }
   ],
   "source": [
    "eve.number_of_utterances(by_files=True)"
   ]
  },
  {
   "cell_type": "code",
   "execution_count": 4,
   "metadata": {},
   "outputs": [
    {
     "data": {
      "text/plain": [
       "3923"
      ]
     },
     "execution_count": 4,
     "metadata": {},
     "output_type": "execute_result"
    }
   ],
   "source": [
    "eve.number_of_utterances(by_files=False)"
   ]
  },
  {
   "cell_type": "code",
   "execution_count": 20,
   "metadata": {},
   "outputs": [
    {
     "data": {
      "text/plain": [
       "(3145, 778)"
      ]
     },
     "execution_count": 20,
     "metadata": {},
     "output_type": "execute_result"
    }
   ],
   "source": [
    "eve.number_of_utterances(participant='PAR'), eve.number_of_utterances(participant='INV')"
   ]
  },
  {
   "cell_type": "code",
   "execution_count": 21,
   "metadata": {},
   "outputs": [
    {
     "data": {
      "text/plain": [
       "3923"
      ]
     },
     "execution_count": 21,
     "metadata": {},
     "output_type": "execute_result"
    }
   ],
   "source": [
    "3145+778"
   ]
  },
  {
   "cell_type": "code",
   "execution_count": 5,
   "metadata": {
    "collapsed": true
   },
   "outputs": [
    {
     "name": "stdout",
     "output_type": "stream",
     "text": [
      "002-0.cha 21\n",
      "002-1.cha 20\n",
      "002-2.cha 18\n",
      "002-3.cha 14\n",
      "006-2.cha 16\n",
      "006-3.cha 14\n",
      "006-4.cha 16\n",
      "013-0.cha 16\n",
      "013-2.cha 15\n",
      "013-3.cha 16\n",
      "013-4.cha 19\n",
      "015-0.cha 30\n",
      "015-1.cha 25\n",
      "015-2.cha 35\n",
      "015-3.cha 24\n",
      "015-4.cha 22\n",
      "017-4.cha 34\n",
      "021-0.cha 16\n",
      "021-1.cha 16\n",
      "021-2.cha 12\n",
      "021-3.cha 15\n",
      "021-4.cha 14\n",
      "022-0.cha 16\n",
      "022-1.cha 9\n",
      "022-2.cha 11\n",
      "028-1.cha 25\n",
      "028-4.cha 14\n",
      "034-0.cha 19\n",
      "034-1.cha 11\n",
      "034-2.cha 15\n",
      "034-3.cha 16\n",
      "034-4.cha 19\n",
      "042-1.cha 19\n",
      "042-2.cha 11\n",
      "042-3.cha 12\n",
      "042-4.cha 11\n",
      "045-0.cha 23\n",
      "045-2.cha 20\n",
      "045-3.cha 18\n",
      "052-0.cha 16\n",
      "052-2.cha 4\n",
      "054-0.cha 15\n",
      "055-0.cha 21\n",
      "056-0.cha 15\n",
      "056-3.cha 9\n",
      "056-4.cha 10\n",
      "059-2.cha 11\n",
      "059-3.cha 10\n",
      "059-4.cha 11\n",
      "068-0.cha 12\n",
      "068-2.cha 10\n",
      "068-3.cha 9\n",
      "071-0.cha 23\n",
      "071-1.cha 22\n",
      "071-2.cha 25\n",
      "071-3.cha 25\n",
      "071-4.cha 16\n",
      "073-0.cha 20\n",
      "073-1.cha 8\n",
      "073-3.cha 16\n",
      "086-0.cha 33\n",
      "086-1.cha 16\n",
      "086-2.cha 16\n",
      "086-3.cha 22\n",
      "086-4.cha 22\n",
      "092-0.cha 10\n",
      "092-1.cha 19\n",
      "092-2.cha 7\n",
      "092-3.cha 10\n",
      "093-0.cha 27\n",
      "093-1.cha 10\n",
      "096-1.cha 20\n",
      "096-2.cha 20\n",
      "105-0.cha 15\n",
      "105-1.cha 16\n",
      "105-2.cha 23\n",
      "107-1.cha 15\n",
      "107-2.cha 9\n",
      "109-1.cha 20\n",
      "109-3.cha 14\n",
      "109-4.cha 23\n",
      "113-0.cha 14\n",
      "113-1.cha 16\n",
      "113-2.cha 20\n",
      "113-3.cha 12\n",
      "114-0.cha 18\n",
      "114-1.cha 12\n",
      "114-2.cha 15\n",
      "114-3.cha 9\n",
      "114-4.cha 15\n",
      "118-0.cha 10\n",
      "118-1.cha 12\n",
      "118-2.cha 13\n",
      "118-3.cha 13\n",
      "118-4.cha 11\n",
      "121-0.cha 20\n",
      "121-1.cha 29\n",
      "121-2.cha 24\n",
      "121-3.cha 22\n",
      "121-4.cha 23\n",
      "124-0.cha 17\n",
      "124-1.cha 24\n",
      "128-1.cha 22\n",
      "128-2.cha 30\n",
      "128-3.cha 39\n",
      "129-1.cha 15\n",
      "130-1.cha 7\n",
      "130-2.cha 10\n",
      "130-3.cha 8\n",
      "132-0.cha 17\n",
      "132-1.cha 16\n",
      "137-0.cha 27\n",
      "137-1.cha 15\n",
      "137-2.cha 12\n",
      "137-3.cha 15\n",
      "138-1.cha 18\n",
      "138-3.cha 13\n",
      "139-0.cha 19\n",
      "139-1.cha 11\n",
      "139-3.cha 6\n",
      "140-0.cha 24\n",
      "140-3.cha 12\n",
      "141-0.cha 14\n",
      "141-1.cha 8\n",
      "141-2.cha 12\n",
      "141-3.cha 23\n",
      "142-0.cha 17\n",
      "142-1.cha 14\n",
      "142-3.cha 14\n",
      "143-3.cha 8\n",
      "145-1.cha 19\n",
      "145-3.cha 20\n",
      "146-1.cha 19\n",
      "150-0.cha 14\n",
      "150-1.cha 16\n",
      "150-2.cha 20\n",
      "155-0.cha 10\n",
      "155-2.cha 20\n",
      "155-3.cha 9\n",
      "158-0.cha 19\n",
      "158-1.cha 22\n",
      "158-2.cha 16\n",
      "158-3.cha 13\n",
      "166-0.cha 8\n",
      "166-1.cha 20\n",
      "166-2.cha 15\n",
      "167-1.cha 9\n",
      "167-2.cha 13\n",
      "167-3.cha 22\n",
      "171-0.cha 10\n",
      "171-1.cha 9\n",
      "172-0.cha 22\n",
      "175-0.cha 25\n",
      "175-1.cha 16\n",
      "175-2.cha 23\n",
      "175-3.cha 11\n",
      "182-3.cha 13\n",
      "192-0.cha 9\n",
      "192-2.cha 17\n",
      "196-0.cha 15\n",
      "196-1.cha 15\n",
      "208-0.cha 12\n",
      "208-1.cha 8\n",
      "208-2.cha 16\n",
      "209-1.cha 11\n",
      "209-2.cha 15\n",
      "209-3.cha 26\n",
      "210-1.cha 25\n",
      "210-2.cha 24\n",
      "211-1.cha 16\n",
      "211-2.cha 16\n",
      "225-0.cha 17\n",
      "225-2.cha 17\n",
      "227-0.cha 26\n",
      "227-1.cha 25\n",
      "229-1.cha 9\n",
      "229-2.cha 8\n",
      "232-0.cha 22\n",
      "232-1.cha 18\n",
      "242-0.cha 14\n",
      "242-1.cha 22\n",
      "242-2.cha 27\n",
      "243-0.cha 24\n",
      "243-1.cha 19\n",
      "245-0.cha 10\n",
      "245-1.cha 17\n",
      "245-2.cha 19\n",
      "248-0.cha 19\n",
      "248-1.cha 16\n",
      "248-2.cha 8\n",
      "255-0.cha 11\n",
      "255-1.cha 3\n",
      "256-0.cha 20\n",
      "256-1.cha 10\n",
      "256-2.cha 24\n",
      "266-0.cha 11\n",
      "266-1.cha 15\n",
      "266-2.cha 24\n",
      "267-0.cha 8\n",
      "267-2.cha 13\n",
      "274-0.cha 18\n",
      "274-1.cha 10\n",
      "274-2.cha 8\n",
      "275-0.cha 20\n",
      "275-1.cha 13\n",
      "280-0.cha 27\n",
      "280-1.cha 11\n",
      "280-2.cha 15\n",
      "292-1.cha 15\n",
      "295-0.cha 13\n",
      "295-1.cha 6\n",
      "296-0.cha 8\n",
      "296-1.cha 19\n",
      "296-2.cha 19\n",
      "297-1.cha 9\n",
      "297-2.cha 14\n",
      "298-1.cha 15\n",
      "299-1.cha 14\n",
      "302-0.cha 11\n",
      "304-1.cha 6\n",
      "304-2.cha 13\n",
      "318-0.cha 13\n",
      "318-1.cha 10\n",
      "318-2.cha 10\n",
      "322-1.cha 12\n",
      "322-2.cha 10\n",
      "323-0.cha 25\n",
      "323-1.cha 17\n",
      "332-0.cha 7\n",
      "336-1.cha 20\n",
      "340-0.cha 15\n",
      "612-0.cha 16\n",
      "627-0.cha 16\n",
      "631-0.cha 10\n",
      "661-0.cha 16\n",
      "668-0.cha 19\n",
      "678-0.cha 14\n",
      "684-0.cha 24\n",
      "686-0.cha 14\n",
      "688-0.cha 14\n",
      "691-0.cha 20\n",
      "709-0.cha 16\n",
      "709-2.cha 20\n"
     ]
    }
   ],
   "source": [
    "counts_by_files = eve.number_of_utterances(by_files=True)  # dict(filename: num of utterances)\n",
    "import os\n",
    "for abs_filename, n in sorted(counts_by_files.items()):\n",
    "    print(os.path.basename(abs_filename), n)"
   ]
  },
  {
   "cell_type": "code",
   "execution_count": 6,
   "metadata": {},
   "outputs": [
    {
     "data": {
      "text/plain": [
       "243"
      ]
     },
     "execution_count": 6,
     "metadata": {},
     "output_type": "execute_result"
    }
   ],
   "source": [
    "eve.number_of_files()"
   ]
  },
  {
   "cell_type": "code",
   "execution_count": 7,
   "metadata": {},
   "outputs": [
    {
     "data": {
      "text/plain": [
       "243"
      ]
     },
     "execution_count": 7,
     "metadata": {},
     "output_type": "execute_result"
    }
   ],
   "source": [
    "len(eve)"
   ]
  },
  {
   "cell_type": "markdown",
   "metadata": {},
   "source": [
    "#### Adding and removing transcripts in a reader\n",
    "It is possible to add or remove transcripts in a Reader instance; this is important where dynamic data handling is needed. Three methods are available: add(), remove(), update(), and clear()"
   ]
  },
  {
   "cell_type": "markdown",
   "metadata": {},
   "source": [
    "## Metadata"
   ]
  },
  {
   "cell_type": "markdown",
   "metadata": {},
   "source": [
    "http://pylangacq.org/metadata.html#metadata"
   ]
  },
  {
   "cell_type": "code",
   "execution_count": 8,
   "metadata": {},
   "outputs": [],
   "source": [
    "eve01_filename = eve.abspath('002-0.cha')"
   ]
  },
  {
   "cell_type": "code",
   "execution_count": 9,
   "metadata": {},
   "outputs": [
    {
     "data": {
      "text/plain": [
       "{'PAR': {'participant_name': 'Participant',\n",
       "  'language': 'eng',\n",
       "  'corpus': 'Pitt',\n",
       "  'age': '58;',\n",
       "  'sex': 'female',\n",
       "  'group': 'Control',\n",
       "  'SES': '',\n",
       "  'participant_role': 'Participant',\n",
       "  'education': '30',\n",
       "  'custom': ''},\n",
       " 'INV': {'participant_name': 'Investigator',\n",
       "  'language': 'eng',\n",
       "  'corpus': 'Pitt',\n",
       "  'age': '',\n",
       "  'sex': '',\n",
       "  'group': '',\n",
       "  'SES': '',\n",
       "  'participant_role': 'Investigator',\n",
       "  'education': '',\n",
       "  'custom': ''}}"
      ]
     },
     "execution_count": 9,
     "metadata": {},
     "output_type": "execute_result"
    }
   ],
   "source": [
    "eve.participants()[eve01_filename]"
   ]
  },
  {
   "cell_type": "markdown",
   "metadata": {},
   "source": [
    "## Transcriptions and annotations"
   ]
  },
  {
   "cell_type": "markdown",
   "metadata": {},
   "source": [
    "http://pylangacq.org/transcriptions.html#transcriptions    \n",
    "http://pylangacq.org/transcriptions.html#cds"
   ]
  },
  {
   "cell_type": "markdown",
   "metadata": {},
   "source": [
    "Transcriptions and annotations from the %mor and %gra tiers (for morphology, part-of-speech tags, and grammatical relations) are accessible via NLTK-like corpus access methods such as words(), tagged_words(), sents(), and tagged_sents(). By default, these methods return an object “X” lumping together results from all the files. If we are interested in return objects for individual files and therefore need the file structure, these methods take the optional parameter by_files: if True, the return object is “dict(filename: X for that file)” a dict mapping an absolute-path filename to the method’s return object for that file (similar to age() introduced above). For example, to check out the word counts in eve"
   ]
  },
  {
   "cell_type": "code",
   "execution_count": 11,
   "metadata": {},
   "outputs": [
    {
     "data": {
      "text/plain": [
       "{'',\n",
       " '!',\n",
       " '+\".',\n",
       " '+\"/.',\n",
       " '+...',\n",
       " '+..?',\n",
       " '+/.',\n",
       " '+//.',\n",
       " '+//?',\n",
       " '+/?',\n",
       " '.',\n",
       " '?',\n",
       " 'ADJ',\n",
       " 'ADV',\n",
       " 'ADV:TEM',\n",
       " 'AUX',\n",
       " 'BEG',\n",
       " 'BQ',\n",
       " 'CM',\n",
       " 'CO',\n",
       " 'COMP',\n",
       " 'CONJ',\n",
       " 'COORD',\n",
       " 'COP',\n",
       " 'DET:ART',\n",
       " 'DET:DEM',\n",
       " 'DET:NUM',\n",
       " 'DET:POSS',\n",
       " 'EQ',\n",
       " 'IN#ADJ',\n",
       " 'INF',\n",
       " 'MINI#N',\n",
       " 'MOD',\n",
       " 'N',\n",
       " 'N:GERUND',\n",
       " 'N:LET',\n",
       " 'N:PROP',\n",
       " 'N:PT',\n",
       " 'NEG',\n",
       " 'NEO',\n",
       " 'ON',\n",
       " 'OUT#PART',\n",
       " 'OVER#N:GERUND',\n",
       " 'OVER#PART',\n",
       " 'OVER#V',\n",
       " 'PART',\n",
       " 'POST',\n",
       " 'PRE#PART',\n",
       " 'PRE#V',\n",
       " 'PREP',\n",
       " 'PRO:DEM',\n",
       " 'PRO:EXIST',\n",
       " 'PRO:INDEF',\n",
       " 'PRO:INT',\n",
       " 'PRO:OBJ',\n",
       " 'PRO:PER',\n",
       " 'PRO:POSS',\n",
       " 'PRO:REFL',\n",
       " 'PRO:REL',\n",
       " 'PRO:SUB',\n",
       " 'QN',\n",
       " 'UN#ADJ',\n",
       " 'UN#PART',\n",
       " 'UP#PART',\n",
       " 'UP#V',\n",
       " 'V'}"
      ]
     },
     "execution_count": 11,
     "metadata": {},
     "output_type": "execute_result"
    }
   ],
   "source": [
    "eve.part_of_speech_tags()"
   ]
  },
  {
   "cell_type": "code",
   "execution_count": 12,
   "metadata": {},
   "outputs": [
    {
     "data": {
      "text/plain": [
       "32323"
      ]
     },
     "execution_count": 12,
     "metadata": {},
     "output_type": "execute_result"
    }
   ],
   "source": [
    "filenames = eve.filenames()  # the set of absolute-path filenames\n",
    "words = eve.words()  # all words across as a list across all files\n",
    "len(words)"
   ]
  },
  {
   "cell_type": "code",
   "execution_count": 13,
   "metadata": {},
   "outputs": [
    {
     "data": {
      "text/plain": [
       "243"
      ]
     },
     "execution_count": 13,
     "metadata": {},
     "output_type": "execute_result"
    }
   ],
   "source": [
    "len(filenames)"
   ]
  },
  {
   "cell_type": "code",
   "execution_count": 17,
   "metadata": {
    "collapsed": true
   },
   "outputs": [
    {
     "data": {
      "text/plain": [
       "['the',\n",
       " 'scene',\n",
       " 'is',\n",
       " 'in',\n",
       " 'the',\n",
       " 'kitchen',\n",
       " '.',\n",
       " 'the',\n",
       " 'mother',\n",
       " 'is',\n",
       " 'wiping',\n",
       " 'dishes',\n",
       " 'and',\n",
       " 'the',\n",
       " 'water',\n",
       " 'is',\n",
       " 'running',\n",
       " 'on',\n",
       " 'the',\n",
       " 'floor']"
      ]
     },
     "execution_count": 17,
     "metadata": {},
     "output_type": "execute_result"
    }
   ],
   "source": [
    "eve.words(participant='PAR')[:20]"
   ]
  },
  {
   "cell_type": "markdown",
   "metadata": {},
   "source": [
    "The “tagged” methods represent a word as a tuple of (word, pos, mor, rel) where pos is the part-of-speech tag, mor is the morphological information (for the lemma and inflectional affix, for instance), and rel is the dependency and grammatical relation:"
   ]
  },
  {
   "cell_type": "code",
   "execution_count": 22,
   "metadata": {},
   "outputs": [
    {
     "name": "stdout",
     "output_type": "stream",
     "text": [
      "('the', 'DET:ART', 'the', (1, 2, 'DET'))\n",
      "('scene', 'N', 'scene', (2, 3, 'SUBJ'))\n",
      "('is', 'COP', 'be&3S', (3, 0, 'ROOT'))\n",
      "('in', 'PREP', 'in', (4, 3, 'JCT'))\n",
      "('the', 'DET:ART', 'the', (5, 6, 'DET'))\n",
      "('kitchen', 'N', 'kitchen', (6, 4, 'POBJ'))\n",
      "('.', '.', '', (7, 3, 'PUNCT'))\n",
      "('the', 'DET:ART', 'the', (1, 2, 'DET'))\n",
      "('mother', 'N', 'mother', (2, 4, 'SUBJ'))\n",
      "('is', 'AUX', 'be&3S', (3, 4, 'AUX'))\n",
      "('wiping', 'PART', 'wipe-PRESP', (4, 0, 'ROOT'))\n",
      "('dishes', 'N', 'dish-PL', (5, 4, 'OBJ'))\n",
      "('and', 'COORD', 'and', (6, 10, 'LINK'))\n",
      "('the', 'DET:ART', 'the', (7, 8, 'DET'))\n",
      "('water', 'N', 'water', (8, 10, 'SUBJ'))\n",
      "('is', 'AUX', 'be&3S', (9, 10, 'AUX'))\n",
      "('running', 'PART', 'run-PRESP', (10, 4, 'CJCT'))\n",
      "('on', 'PREP', 'on', (11, 10, 'JCT'))\n",
      "('the', 'DET:ART', 'the', (12, 13, 'DET'))\n",
      "('floor', 'N', 'floor', (13, 11, 'POBJ'))\n"
     ]
    }
   ],
   "source": [
    "par_tagged_words = eve.tagged_words(participant='PAR')\n",
    "for tagged_word in par_tagged_words[:20]:\n",
    "    print(tagged_word)"
   ]
  },
  {
   "cell_type": "code",
   "execution_count": 23,
   "metadata": {},
   "outputs": [
    {
     "data": {
      "text/plain": [
       "3145"
      ]
     },
     "execution_count": 23,
     "metadata": {},
     "output_type": "execute_result"
    }
   ],
   "source": [
    "eve.number_of_utterances(participant='PAR')"
   ]
  },
  {
   "cell_type": "markdown",
   "metadata": {},
   "source": [
    "To check if a method has the optional argument participant, please see the complete list of methods for the Reader class in chat — Reading and parsing CHAT transcripts."
   ]
  },
  {
   "cell_type": "markdown",
   "metadata": {},
   "source": [
    "## Utterances"
   ]
  },
  {
   "cell_type": "code",
   "execution_count": 24,
   "metadata": {},
   "outputs": [
    {
     "data": {
      "text/plain": [
       "[['the', 'scene', 'is', 'in', 'the', 'kitchen', '.'],\n",
       " ['the',\n",
       "  'mother',\n",
       "  'is',\n",
       "  'wiping',\n",
       "  'dishes',\n",
       "  'and',\n",
       "  'the',\n",
       "  'water',\n",
       "  'is',\n",
       "  'running',\n",
       "  'on',\n",
       "  'the',\n",
       "  'floor',\n",
       "  '.']]"
      ]
     },
     "execution_count": 24,
     "metadata": {},
     "output_type": "execute_result"
    }
   ],
   "source": [
    "eve.sents()[:2]"
   ]
  },
  {
   "cell_type": "code",
   "execution_count": 25,
   "metadata": {},
   "outputs": [
    {
     "data": {
      "text/plain": [
       "[('the', 'DET:ART', 'the', (1, 2, 'DET')),\n",
       " ('scene', 'N', 'scene', (2, 3, 'SUBJ'))]"
      ]
     },
     "execution_count": 25,
     "metadata": {},
     "output_type": "execute_result"
    }
   ],
   "source": [
    "eve.tagged_words()[:2]"
   ]
  },
  {
   "cell_type": "code",
   "execution_count": 26,
   "metadata": {},
   "outputs": [
    {
     "name": "stdout",
     "output_type": "stream",
     "text": [
      "[[('the', 'DET:ART', 'the', (1, 2, 'DET')), ('scene', 'N', 'scene', (2, 3, 'SUBJ')), ('is', 'COP', 'be&3S', (3, 0, 'ROOT')), ('in', 'PREP', 'in', (4, 3, 'JCT')), ('the', 'DET:ART', 'the', (5, 6, 'DET')), ('kitchen', 'N', 'kitchen', (6, 4, 'POBJ')), ('.', '.', '', (7, 3, 'PUNCT'))], [('the', 'DET:ART', 'the', (1, 2, 'DET')), ('mother', 'N', 'mother', (2, 4, 'SUBJ')), ('is', 'AUX', 'be&3S', (3, 4, 'AUX')), ('wiping', 'PART', 'wipe-PRESP', (4, 0, 'ROOT')), ('dishes', 'N', 'dish-PL', (5, 4, 'OBJ')), ('and', 'COORD', 'and', (6, 10, 'LINK')), ('the', 'DET:ART', 'the', (7, 8, 'DET')), ('water', 'N', 'water', (8, 10, 'SUBJ')), ('is', 'AUX', 'be&3S', (9, 10, 'AUX')), ('running', 'PART', 'run-PRESP', (10, 4, 'CJCT')), ('on', 'PREP', 'on', (11, 10, 'JCT')), ('the', 'DET:ART', 'the', (12, 13, 'DET')), ('floor', 'N', 'floor', (13, 11, 'POBJ')), ('.', '.', '', (14, 4, 'PUNCT'))]]\n"
     ]
    }
   ],
   "source": [
    "print(eve.tagged_sents()[:2])"
   ]
  },
  {
   "cell_type": "code",
   "execution_count": 27,
   "metadata": {},
   "outputs": [
    {
     "name": "stdout",
     "output_type": "stream",
     "text": [
      "[('PAR', 'the scene is in the kitchen .'), ('PAR', 'the mother is wiping dishes and the water is running on the floor .'), ('PAR', \"a boy is tryin(g) to get cookies out of a jar and he's about to tip over on a stool .\"), ('PAR', 'the little girl is reacting to his falling .'), ('PAR', 'it seems to be summer out .')]\n"
     ]
    }
   ],
   "source": [
    "print(eve.utterances()[:5])"
   ]
  },
  {
   "cell_type": "code",
   "execution_count": null,
   "metadata": {},
   "outputs": [],
   "source": []
  },
  {
   "cell_type": "code",
   "execution_count": 28,
   "metadata": {},
   "outputs": [
    {
     "data": {
      "text/plain": [
       "3923"
      ]
     },
     "execution_count": 28,
     "metadata": {},
     "output_type": "execute_result"
    }
   ],
   "source": [
    "len(eve.sents())"
   ]
  },
  {
   "cell_type": "code",
   "execution_count": 29,
   "metadata": {},
   "outputs": [],
   "source": [
    "tagged = eve.tagged_sents(participant='PAR')\n",
    "sentences = eve.sents(participant='PAR')\n"
   ]
  },
  {
   "cell_type": "code",
   "execution_count": 30,
   "metadata": {},
   "outputs": [
    {
     "data": {
      "text/plain": [
       "3145"
      ]
     },
     "execution_count": 30,
     "metadata": {},
     "output_type": "execute_result"
    }
   ],
   "source": [
    "len(tagged)"
   ]
  },
  {
   "cell_type": "code",
   "execution_count": 31,
   "metadata": {},
   "outputs": [],
   "source": [
    "group = list(['Control']*3145)\n"
   ]
  },
  {
   "cell_type": "code",
   "execution_count": 34,
   "metadata": {},
   "outputs": [
    {
     "data": {
      "text/plain": [
       "[['the', 'scene', 'is', 'in', 'the', 'kitchen', '.'],\n",
       " ['the',\n",
       "  'mother',\n",
       "  'is',\n",
       "  'wiping',\n",
       "  'dishes',\n",
       "  'and',\n",
       "  'the',\n",
       "  'water',\n",
       "  'is',\n",
       "  'running',\n",
       "  'on',\n",
       "  'the',\n",
       "  'floor',\n",
       "  '.'],\n",
       " ['a',\n",
       "  'boy',\n",
       "  'is',\n",
       "  'trying',\n",
       "  'to',\n",
       "  'get',\n",
       "  'cookies',\n",
       "  'out',\n",
       "  'of',\n",
       "  'a',\n",
       "  'jar',\n",
       "  'and',\n",
       "  \"he's\",\n",
       "  'about',\n",
       "  'to',\n",
       "  'tip',\n",
       "  'over',\n",
       "  'on',\n",
       "  'a',\n",
       "  'stool',\n",
       "  '.'],\n",
       " ['the', 'little', 'girl', 'is', 'reacting', 'to', 'his', 'falling', '.'],\n",
       " ['it', 'seems', 'to', 'be', 'summer', 'out', '.']]"
      ]
     },
     "execution_count": 34,
     "metadata": {},
     "output_type": "execute_result"
    }
   ],
   "source": [
    "sentences[:5]"
   ]
  },
  {
   "cell_type": "code",
   "execution_count": 35,
   "metadata": {},
   "outputs": [],
   "source": [
    "control_df = pd.DataFrame(\n",
    "    {'utterances': sentences,\n",
    "     'taggeg': tagged,\n",
    "     'group': group\n",
    "    })\n"
   ]
  },
  {
   "cell_type": "code",
   "execution_count": 36,
   "metadata": {},
   "outputs": [
    {
     "data": {
      "text/html": [
       "<div>\n",
       "<style scoped>\n",
       "    .dataframe tbody tr th:only-of-type {\n",
       "        vertical-align: middle;\n",
       "    }\n",
       "\n",
       "    .dataframe tbody tr th {\n",
       "        vertical-align: top;\n",
       "    }\n",
       "\n",
       "    .dataframe thead th {\n",
       "        text-align: right;\n",
       "    }\n",
       "</style>\n",
       "<table border=\"1\" class=\"dataframe\">\n",
       "  <thead>\n",
       "    <tr style=\"text-align: right;\">\n",
       "      <th></th>\n",
       "      <th>utterances</th>\n",
       "      <th>taggeg</th>\n",
       "      <th>group</th>\n",
       "    </tr>\n",
       "  </thead>\n",
       "  <tbody>\n",
       "    <tr>\n",
       "      <th>0</th>\n",
       "      <td>[the, scene, is, in, the, kitchen, .]</td>\n",
       "      <td>[(the, DET:ART, the, (1, 2, DET)), (scene, N, ...</td>\n",
       "      <td>Control</td>\n",
       "    </tr>\n",
       "    <tr>\n",
       "      <th>1</th>\n",
       "      <td>[the, mother, is, wiping, dishes, and, the, wa...</td>\n",
       "      <td>[(the, DET:ART, the, (1, 2, DET)), (mother, N,...</td>\n",
       "      <td>Control</td>\n",
       "    </tr>\n",
       "    <tr>\n",
       "      <th>2</th>\n",
       "      <td>[a, boy, is, trying, to, get, cookies, out, of...</td>\n",
       "      <td>[(a, DET:ART, a, (1, 2, DET)), (boy, N, boy, (...</td>\n",
       "      <td>Control</td>\n",
       "    </tr>\n",
       "    <tr>\n",
       "      <th>3</th>\n",
       "      <td>[the, little, girl, is, reacting, to, his, fal...</td>\n",
       "      <td>[(the, DET:ART, the, (1, 3, DET)), (little, AD...</td>\n",
       "      <td>Control</td>\n",
       "    </tr>\n",
       "    <tr>\n",
       "      <th>4</th>\n",
       "      <td>[it, seems, to, be, summer, out, .]</td>\n",
       "      <td>[(it, PRO:PER, it, (1, 2, SUBJ)), (seems, COP,...</td>\n",
       "      <td>Control</td>\n",
       "    </tr>\n",
       "  </tbody>\n",
       "</table>\n",
       "</div>"
      ],
      "text/plain": [
       "                                          utterances  \\\n",
       "0              [the, scene, is, in, the, kitchen, .]   \n",
       "1  [the, mother, is, wiping, dishes, and, the, wa...   \n",
       "2  [a, boy, is, trying, to, get, cookies, out, of...   \n",
       "3  [the, little, girl, is, reacting, to, his, fal...   \n",
       "4                [it, seems, to, be, summer, out, .]   \n",
       "\n",
       "                                              taggeg    group  \n",
       "0  [(the, DET:ART, the, (1, 2, DET)), (scene, N, ...  Control  \n",
       "1  [(the, DET:ART, the, (1, 2, DET)), (mother, N,...  Control  \n",
       "2  [(a, DET:ART, a, (1, 2, DET)), (boy, N, boy, (...  Control  \n",
       "3  [(the, DET:ART, the, (1, 3, DET)), (little, AD...  Control  \n",
       "4  [(it, PRO:PER, it, (1, 2, SUBJ)), (seems, COP,...  Control  "
      ]
     },
     "execution_count": 36,
     "metadata": {},
     "output_type": "execute_result"
    }
   ],
   "source": [
    "control_df.head()"
   ]
  },
  {
   "cell_type": "code",
   "execution_count": 37,
   "metadata": {},
   "outputs": [
    {
     "data": {
      "text/plain": [
       "3908"
      ]
     },
     "execution_count": 37,
     "metadata": {},
     "output_type": "execute_result"
    }
   ],
   "source": [
    "eve = pla.read_chat('../data/Pitt/Dementia/cookie/*.cha', encoding = 'utf-8')\n",
    "tagged = eve.tagged_sents(participant='PAR')\n",
    "sentences = eve.sents(participant='PAR')\n",
    "len(tagged)"
   ]
  },
  {
   "cell_type": "code",
   "execution_count": 39,
   "metadata": {
    "scrolled": true
   },
   "outputs": [
    {
     "data": {
      "text/html": [
       "<div>\n",
       "<style scoped>\n",
       "    .dataframe tbody tr th:only-of-type {\n",
       "        vertical-align: middle;\n",
       "    }\n",
       "\n",
       "    .dataframe tbody tr th {\n",
       "        vertical-align: top;\n",
       "    }\n",
       "\n",
       "    .dataframe thead th {\n",
       "        text-align: right;\n",
       "    }\n",
       "</style>\n",
       "<table border=\"1\" class=\"dataframe\">\n",
       "  <thead>\n",
       "    <tr style=\"text-align: right;\">\n",
       "      <th></th>\n",
       "      <th>utterances</th>\n",
       "      <th>taggeg</th>\n",
       "      <th>group</th>\n",
       "    </tr>\n",
       "  </thead>\n",
       "  <tbody>\n",
       "    <tr>\n",
       "      <th>0</th>\n",
       "      <td>[mhm, .]</td>\n",
       "      <td>[(mhm, CO, mhm=yes, (1, 0, INCROOT)), (., ., ,...</td>\n",
       "      <td>Dementia</td>\n",
       "    </tr>\n",
       "    <tr>\n",
       "      <th>1</th>\n",
       "      <td>[alright, .]</td>\n",
       "      <td>[(alright, CO, alright, (1, 0, INCROOT)), (., ...</td>\n",
       "      <td>Dementia</td>\n",
       "    </tr>\n",
       "    <tr>\n",
       "      <th>2</th>\n",
       "      <td>[there's, a, young, boy, that's, getting, a, c...</td>\n",
       "      <td>[(there's, PRO:EXIST, there, (1, 2, SUBJ)), (C...</td>\n",
       "      <td>Dementia</td>\n",
       "    </tr>\n",
       "    <tr>\n",
       "      <th>3</th>\n",
       "      <td>[and, he's, in, bad, shape, because, the, thin...</td>\n",
       "      <td>[(and, COORD, and, (1, 3, LINK)), (he's, PRO:S...</td>\n",
       "      <td>Dementia</td>\n",
       "    </tr>\n",
       "    <tr>\n",
       "      <th>4</th>\n",
       "      <td>[and, in, the, picture, the, mother, is, washi...</td>\n",
       "      <td>[(and, COORD, and, (1, 8, LINK)), (in, PREP, i...</td>\n",
       "      <td>Dementia</td>\n",
       "    </tr>\n",
       "  </tbody>\n",
       "</table>\n",
       "</div>"
      ],
      "text/plain": [
       "                                          utterances  \\\n",
       "0                                           [mhm, .]   \n",
       "1                                       [alright, .]   \n",
       "2  [there's, a, young, boy, that's, getting, a, c...   \n",
       "3  [and, he's, in, bad, shape, because, the, thin...   \n",
       "4  [and, in, the, picture, the, mother, is, washi...   \n",
       "\n",
       "                                              taggeg     group  \n",
       "0  [(mhm, CO, mhm=yes, (1, 0, INCROOT)), (., ., ,...  Dementia  \n",
       "1  [(alright, CO, alright, (1, 0, INCROOT)), (., ...  Dementia  \n",
       "2  [(there's, PRO:EXIST, there, (1, 2, SUBJ)), (C...  Dementia  \n",
       "3  [(and, COORD, and, (1, 3, LINK)), (he's, PRO:S...  Dementia  \n",
       "4  [(and, COORD, and, (1, 8, LINK)), (in, PREP, i...  Dementia  "
      ]
     },
     "execution_count": 39,
     "metadata": {},
     "output_type": "execute_result"
    }
   ],
   "source": [
    "group = list(['Dementia']*3908)\n",
    "dementia_df = pd.DataFrame(\n",
    "    {'utterances': sentences,\n",
    "     'taggeg': tagged,\n",
    "     'group': group\n",
    "    })\n",
    "dementia_df.head()"
   ]
  }
 ],
 "metadata": {
  "kernelspec": {
   "display_name": "Python 3",
   "language": "python",
   "name": "python3"
  },
  "language_info": {
   "codemirror_mode": {
    "name": "ipython",
    "version": 3
   },
   "file_extension": ".py",
   "mimetype": "text/x-python",
   "name": "python",
   "nbconvert_exporter": "python",
   "pygments_lexer": "ipython3",
   "version": "3.7.2"
  }
 },
 "nbformat": 4,
 "nbformat_minor": 2
}
