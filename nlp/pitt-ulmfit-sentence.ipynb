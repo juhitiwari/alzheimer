{
 "cells": [
  {
   "cell_type": "code",
   "execution_count": 1,
   "metadata": {},
   "outputs": [],
   "source": [
    "import pandas as pd\n",
    "from fastai.text import *"
   ]
  },
  {
   "cell_type": "code",
   "execution_count": 2,
   "metadata": {},
   "outputs": [],
   "source": [
    "pitt_path = Path('../data/Pitt')\n",
    "model_path = pitt_path.parent/'models'"
   ]
  },
  {
   "cell_type": "code",
   "execution_count": 3,
   "metadata": {},
   "outputs": [
    {
     "data": {
      "text/html": [
       "<div>\n",
       "<style scoped>\n",
       "    .dataframe tbody tr th:only-of-type {\n",
       "        vertical-align: middle;\n",
       "    }\n",
       "\n",
       "    .dataframe tbody tr th {\n",
       "        vertical-align: top;\n",
       "    }\n",
       "\n",
       "    .dataframe thead th {\n",
       "        text-align: right;\n",
       "    }\n",
       "</style>\n",
       "<table border=\"1\" class=\"dataframe\">\n",
       "  <thead>\n",
       "    <tr style=\"text-align: right;\">\n",
       "      <th></th>\n",
       "      <th>Unnamed: 0</th>\n",
       "      <th>group</th>\n",
       "      <th>is_validation</th>\n",
       "      <th>sentence</th>\n",
       "      <th>tagged</th>\n",
       "      <th>text</th>\n",
       "    </tr>\n",
       "  </thead>\n",
       "  <tbody>\n",
       "    <tr>\n",
       "      <th>0</th>\n",
       "      <td>0</td>\n",
       "      <td>control</td>\n",
       "      <td>False</td>\n",
       "      <td>['the', 'scene', 'is', 'in', 'the', 'kitchen',...</td>\n",
       "      <td>[('the', 'DET:ART', 'the', (1, 2, 'DET')), ('s...</td>\n",
       "      <td>the scene is in the kitchen .</td>\n",
       "    </tr>\n",
       "    <tr>\n",
       "      <th>1</th>\n",
       "      <td>1</td>\n",
       "      <td>control</td>\n",
       "      <td>False</td>\n",
       "      <td>['the', 'mother', 'is', 'wiping', 'dishes', 'a...</td>\n",
       "      <td>[('the', 'DET:ART', 'the', (1, 2, 'DET')), ('m...</td>\n",
       "      <td>the mother is wiping dishes and the water is r...</td>\n",
       "    </tr>\n",
       "    <tr>\n",
       "      <th>2</th>\n",
       "      <td>2</td>\n",
       "      <td>control</td>\n",
       "      <td>False</td>\n",
       "      <td>['a', 'boy', 'is', 'trying', 'to', 'get', 'coo...</td>\n",
       "      <td>[('a', 'DET:ART', 'a', (1, 2, 'DET')), ('boy',...</td>\n",
       "      <td>a boy is trying to get cookies out of a jar an...</td>\n",
       "    </tr>\n",
       "    <tr>\n",
       "      <th>3</th>\n",
       "      <td>3</td>\n",
       "      <td>control</td>\n",
       "      <td>False</td>\n",
       "      <td>['the', 'little', 'girl', 'is', 'reacting', 't...</td>\n",
       "      <td>[('the', 'DET:ART', 'the', (1, 3, 'DET')), ('l...</td>\n",
       "      <td>the little girl is reacting to his falling .</td>\n",
       "    </tr>\n",
       "    <tr>\n",
       "      <th>4</th>\n",
       "      <td>4</td>\n",
       "      <td>control</td>\n",
       "      <td>False</td>\n",
       "      <td>['it', 'seems', 'to', 'be', 'summer', 'out', '.']</td>\n",
       "      <td>[('it', 'PRO:PER', 'it', (1, 2, 'SUBJ')), ('se...</td>\n",
       "      <td>it seems to be summer out .</td>\n",
       "    </tr>\n",
       "  </tbody>\n",
       "</table>\n",
       "</div>"
      ],
      "text/plain": [
       "   Unnamed: 0    group  is_validation  \\\n",
       "0           0  control          False   \n",
       "1           1  control          False   \n",
       "2           2  control          False   \n",
       "3           3  control          False   \n",
       "4           4  control          False   \n",
       "\n",
       "                                            sentence  \\\n",
       "0  ['the', 'scene', 'is', 'in', 'the', 'kitchen',...   \n",
       "1  ['the', 'mother', 'is', 'wiping', 'dishes', 'a...   \n",
       "2  ['a', 'boy', 'is', 'trying', 'to', 'get', 'coo...   \n",
       "3  ['the', 'little', 'girl', 'is', 'reacting', 't...   \n",
       "4  ['it', 'seems', 'to', 'be', 'summer', 'out', '.']   \n",
       "\n",
       "                                              tagged  \\\n",
       "0  [('the', 'DET:ART', 'the', (1, 2, 'DET')), ('s...   \n",
       "1  [('the', 'DET:ART', 'the', (1, 2, 'DET')), ('m...   \n",
       "2  [('a', 'DET:ART', 'a', (1, 2, 'DET')), ('boy',...   \n",
       "3  [('the', 'DET:ART', 'the', (1, 3, 'DET')), ('l...   \n",
       "4  [('it', 'PRO:PER', 'it', (1, 2, 'SUBJ')), ('se...   \n",
       "\n",
       "                                                text  \n",
       "0                      the scene is in the kitchen .  \n",
       "1  the mother is wiping dishes and the water is r...  \n",
       "2  a boy is trying to get cookies out of a jar an...  \n",
       "3       the little girl is reacting to his falling .  \n",
       "4                        it seems to be summer out .  "
      ]
     },
     "execution_count": 3,
     "metadata": {},
     "output_type": "execute_result"
    }
   ],
   "source": [
    "pitt_df = pd.read_csv(model_path/'pitt.csv')\n",
    "pitt_df.head()"
   ]
  },
  {
   "cell_type": "markdown",
   "metadata": {},
   "source": [
    "## fastai API"
   ]
  },
  {
   "cell_type": "code",
   "execution_count": 4,
   "metadata": {},
   "outputs": [],
   "source": [
    "bs = 128"
   ]
  },
  {
   "cell_type": "markdown",
   "metadata": {},
   "source": [
    "To create the Language Model, we use all texts and keep 10% for validation."
   ]
  },
  {
   "cell_type": "code",
   "execution_count": 5,
   "metadata": {},
   "outputs": [],
   "source": [
    "data_lm = (TextList.from_df(pitt_df, path=model_path, cols='text')\n",
    "                .split_by_rand_pct(0.1)\n",
    "                .label_for_lm()\n",
    "                .databunch(bs=bs)\n",
    "       )"
   ]
  },
  {
   "cell_type": "code",
   "execution_count": 6,
   "metadata": {},
   "outputs": [
    {
     "data": {
      "text/html": [
       "<table border=\"1\" class=\"dataframe\">\n",
       "  <thead>\n",
       "    <tr style=\"text-align: right;\">\n",
       "      <th>idx</th>\n",
       "      <th>text</th>\n",
       "    </tr>\n",
       "  </thead>\n",
       "  <tbody>\n",
       "    <tr>\n",
       "      <td>0</td>\n",
       "      <td>xxbos the curtains are blowing . xxbos it must be a xxunk breeze . xxbos there 's grass outside in the garden . xxbos kitchen 's very xxunk . xxbos the mother seems to have nothing in the house to eat except cookies in the cookie jar . xxbos the children look to be almost about the same xxunk . xxbos perhaps they 're xxunk . xxbos they 're dressed</td>\n",
       "    </tr>\n",
       "    <tr>\n",
       "      <td>1</td>\n",
       "      <td>dishes are on the counter . xxbos window is open . xxbos must be summertime . xxbos the girl is laughing . xxbos looks like she 's laughing . xxbos that 's about it . xxbos . xxbos the boy 's getting cookies out of the cookie jar . xxbos he 's handing one to a girl . xxbos the stool he 's standing on is falling . xxbos the</td>\n",
       "    </tr>\n",
       "    <tr>\n",
       "      <td>2</td>\n",
       "      <td>xxbos the mother is stepping in it . xxbos she 's drying her dishes . xxbos the sink is overflowing . xxbos the cups and the saucers are there . xxbos the window is open and you see the lawn outside . xxbos and it must be summertime . xxbos they all have on short sleeves . xxbos and she 's wearing an apron . xxbos okay . xxbos okay</td>\n",
       "    </tr>\n",
       "    <tr>\n",
       "      <td>3</td>\n",
       "      <td>xxbos and the sink is running over down on the floor . xxbos the window is up . xxbos and is that all ? xxbos you want something else ? xxbos oh well there 's a plate and two cups on the counter . xxbos xxmaj i_mean is that .. ? xxbos i do n't see anything / . xxbos i see a little boy on a stool trying to</td>\n",
       "    </tr>\n",
       "    <tr>\n",
       "      <td>4</td>\n",
       "      <td>doing the dishes at the sink and the sink is overflowing . xxbos the water 's overflowing onto the floor . xxbos she 's drying a dish . xxbos it looks like two cups and a plate on the counter . xxbos outside the window it looks like a path . xxbos and there 's another window and some trees apparently and grass and some shrubs . xxbos and there</td>\n",
       "    </tr>\n",
       "  </tbody>\n",
       "</table>"
      ],
      "text/plain": [
       "<IPython.core.display.HTML object>"
      ]
     },
     "metadata": {},
     "output_type": "display_data"
    }
   ],
   "source": [
    "data_lm.show_batch()"
   ]
  },
  {
   "cell_type": "code",
   "execution_count": 7,
   "metadata": {},
   "outputs": [],
   "source": [
    "torch.cuda.empty_cache()"
   ]
  },
  {
   "cell_type": "code",
   "execution_count": 8,
   "metadata": {},
   "outputs": [],
   "source": [
    "learn = language_model_learner(data_lm, AWD_LSTM, drop_mult=0.3)"
   ]
  },
  {
   "cell_type": "code",
   "execution_count": 9,
   "metadata": {},
   "outputs": [
    {
     "data": {
      "text/html": [],
      "text/plain": [
       "<IPython.core.display.HTML object>"
      ]
     },
     "metadata": {},
     "output_type": "display_data"
    },
    {
     "name": "stdout",
     "output_type": "stream",
     "text": [
      "LR Finder is complete, type {learner_name}.recorder.plot() to see the graph.\n"
     ]
    }
   ],
   "source": [
    "learn.lr_find()"
   ]
  },
  {
   "cell_type": "code",
   "execution_count": 10,
   "metadata": {},
   "outputs": [
    {
     "data": {
      "image/png": "[encoded data removed]",
      "text/plain": [
       "<Figure size 432x288 with 1 Axes>"
      ]
     },
     "metadata": {
      "needs_background": "light"
     },
     "output_type": "display_data"
    }
   ],
   "source": [
    "learn.recorder.plot()"
   ]
  },
  {
   "cell_type": "code",
   "execution_count": 12,
   "metadata": {},
   "outputs": [
    {
     "data": {
      "text/html": [
       "<table border=\"1\" class=\"dataframe\">\n",
       "  <thead>\n",
       "    <tr style=\"text-align: left;\">\n",
       "      <th>epoch</th>\n",
       "      <th>train_loss</th>\n",
       "      <th>valid_loss</th>\n",
       "      <th>accuracy</th>\n",
       "      <th>time</th>\n",
       "    </tr>\n",
       "  </thead>\n",
       "  <tbody>\n",
       "    <tr>\n",
       "      <td>0</td>\n",
       "      <td>4.162636</td>\n",
       "      <td>3.113842</td>\n",
       "      <td>0.417299</td>\n",
       "      <td>00:02</td>\n",
       "    </tr>\n",
       "  </tbody>\n",
       "</table>"
      ],
      "text/plain": [
       "<IPython.core.display.HTML object>"
      ]
     },
     "metadata": {},
     "output_type": "display_data"
    }
   ],
   "source": [
    "learn.fit_one_cycle(1, 3e-1, moms=(0.8,0.7))"
   ]
  },
  {
   "cell_type": "code",
   "execution_count": 13,
   "metadata": {},
   "outputs": [],
   "source": [
    "learn.save('fit_head')"
   ]
  },
  {
   "cell_type": "code",
   "execution_count": 14,
   "metadata": {},
   "outputs": [],
   "source": [
    "learn.unfreeze()"
   ]
  },
  {
   "cell_type": "code",
   "execution_count": 15,
   "metadata": {},
   "outputs": [
    {
     "data": {
      "text/html": [
       "<table border=\"1\" class=\"dataframe\">\n",
       "  <thead>\n",
       "    <tr style=\"text-align: left;\">\n",
       "      <th>epoch</th>\n",
       "      <th>train_loss</th>\n",
       "      <th>valid_loss</th>\n",
       "      <th>accuracy</th>\n",
       "      <th>time</th>\n",
       "    </tr>\n",
       "  </thead>\n",
       "  <tbody>\n",
       "    <tr>\n",
       "      <td>0</td>\n",
       "      <td>2.952421</td>\n",
       "      <td>2.728990</td>\n",
       "      <td>0.454297</td>\n",
       "      <td>00:02</td>\n",
       "    </tr>\n",
       "    <tr>\n",
       "      <td>1</td>\n",
       "      <td>2.786724</td>\n",
       "      <td>2.712640</td>\n",
       "      <td>0.451953</td>\n",
       "      <td>00:02</td>\n",
       "    </tr>\n",
       "    <tr>\n",
       "      <td>2</td>\n",
       "      <td>2.674646</td>\n",
       "      <td>2.624758</td>\n",
       "      <td>0.466462</td>\n",
       "      <td>00:02</td>\n",
       "    </tr>\n",
       "    <tr>\n",
       "      <td>3</td>\n",
       "      <td>2.558348</td>\n",
       "      <td>2.579371</td>\n",
       "      <td>0.472824</td>\n",
       "      <td>00:02</td>\n",
       "    </tr>\n",
       "    <tr>\n",
       "      <td>4</td>\n",
       "      <td>2.421053</td>\n",
       "      <td>2.612416</td>\n",
       "      <td>0.474163</td>\n",
       "      <td>00:02</td>\n",
       "    </tr>\n",
       "    <tr>\n",
       "      <td>5</td>\n",
       "      <td>2.268893</td>\n",
       "      <td>2.663246</td>\n",
       "      <td>0.468694</td>\n",
       "      <td>00:02</td>\n",
       "    </tr>\n",
       "    <tr>\n",
       "      <td>6</td>\n",
       "      <td>2.146150</td>\n",
       "      <td>2.718886</td>\n",
       "      <td>0.472600</td>\n",
       "      <td>00:02</td>\n",
       "    </tr>\n",
       "    <tr>\n",
       "      <td>7</td>\n",
       "      <td>1.984227</td>\n",
       "      <td>2.781601</td>\n",
       "      <td>0.473549</td>\n",
       "      <td>00:02</td>\n",
       "    </tr>\n",
       "    <tr>\n",
       "      <td>8</td>\n",
       "      <td>1.841332</td>\n",
       "      <td>2.848566</td>\n",
       "      <td>0.473326</td>\n",
       "      <td>00:02</td>\n",
       "    </tr>\n",
       "    <tr>\n",
       "      <td>9</td>\n",
       "      <td>1.713779</td>\n",
       "      <td>2.864590</td>\n",
       "      <td>0.472824</td>\n",
       "      <td>00:02</td>\n",
       "    </tr>\n",
       "  </tbody>\n",
       "</table>"
      ],
      "text/plain": [
       "<IPython.core.display.HTML object>"
      ]
     },
     "metadata": {},
     "output_type": "display_data"
    }
   ],
   "source": [
    "learn.fit_one_cycle(10, 3e-2, moms=(0.8,0.7))"
   ]
  },
  {
   "cell_type": "markdown",
   "metadata": {},
   "source": [
    "We might be overfitting."
   ]
  },
  {
   "cell_type": "code",
   "execution_count": 16,
   "metadata": {},
   "outputs": [],
   "source": [
    "learn.save('fine_tuned')"
   ]
  },
  {
   "cell_type": "code",
   "execution_count": 21,
   "metadata": {},
   "outputs": [],
   "source": [
    "learn.save_encoder('fine_tuned_enc')"
   ]
  },
  {
   "cell_type": "markdown",
   "metadata": {},
   "source": [
    "## Classification"
   ]
  },
  {
   "cell_type": "code",
   "execution_count": 23,
   "metadata": {},
   "outputs": [],
   "source": [
    "data_clas = (TextList.from_df(pitt_df, path=model_path, cols='text', vocab=data_lm.vocab)\n",
    "                .split_from_df(col='is_validation')\n",
    "                .label_from_df(cols='group')\n",
    "                .databunch(bs=bs)\n",
    "              )"
   ]
  },
  {
   "cell_type": "code",
   "execution_count": 24,
   "metadata": {},
   "outputs": [
    {
     "data": {
      "text/html": [
       "<table border=\"1\" class=\"dataframe\">\n",
       "  <thead>\n",
       "    <tr style=\"text-align: right;\">\n",
       "      <th>text</th>\n",
       "      <th>target</th>\n",
       "    </tr>\n",
       "  </thead>\n",
       "  <tbody>\n",
       "    <tr>\n",
       "      <td>xxbos it looks like she 's sort of laughing at the boy or putting her finger up to her mouth to be quiet so her mother does n't hear who is in the kitchen drying dishes but the water in the sink is overflowing onto the floor and she 's stepping in the water .</td>\n",
       "      <td>control</td>\n",
       "    </tr>\n",
       "    <tr>\n",
       "      <td>xxbos well ‡ whoever he is he probably has somebody else on too and then you 're gon na share it with him and wait i do n't know i guess until it 's over or how i do n't know how the xxunk would be .</td>\n",
       "      <td>dementia</td>\n",
       "    </tr>\n",
       "    <tr>\n",
       "      <td>xxbos and the xxunk of the family his granddaughter by the name of xxmaj melanie really enjoyed his company and enjoyed listening to stories that he would tell of his xxunk life in the city .</td>\n",
       "      <td>dementia</td>\n",
       "    </tr>\n",
       "    <tr>\n",
       "      <td>xxbos and he 's getting a cookie and he 's xxunk a cookie with the little girl who is shushing her mother with her finger and reaching for the cookie at the same time .</td>\n",
       "      <td>control</td>\n",
       "    </tr>\n",
       "    <tr>\n",
       "      <td>xxbos and at the same time there 's a daughter i guess a little girl has her hand up and also one finger to tell i guess her brother to do it xxunk .</td>\n",
       "      <td>dementia</td>\n",
       "    </tr>\n",
       "  </tbody>\n",
       "</table>"
      ],
      "text/plain": [
       "<IPython.core.display.HTML object>"
      ]
     },
     "metadata": {},
     "output_type": "display_data"
    }
   ],
   "source": [
    "data_clas.show_batch()"
   ]
  },
  {
   "cell_type": "code",
   "execution_count": 25,
   "metadata": {},
   "outputs": [],
   "source": [
    "learn_clas = text_classifier_learner(data_clas, AWD_LSTM, drop_mult=0.5)\n",
    "learn_clas.load_encoder('fine_tuned_enc')"
   ]
  },
  {
   "cell_type": "code",
   "execution_count": 26,
   "metadata": {},
   "outputs": [
    {
     "data": {
      "text/html": [],
      "text/plain": [
       "<IPython.core.display.HTML object>"
      ]
     },
     "metadata": {},
     "output_type": "display_data"
    },
    {
     "name": "stdout",
     "output_type": "stream",
     "text": [
      "LR Finder is complete, type {learner_name}.recorder.plot() to see the graph.\n"
     ]
    }
   ],
   "source": [
    "learn_clas.lr_find()"
   ]
  },
  {
   "cell_type": "code",
   "execution_count": 27,
   "metadata": {},
   "outputs": [
    {
     "data": {
      "image/png": "[encoded data removed]",
      "text/plain": [
       "<Figure size 432x288 with 1 Axes>"
      ]
     },
     "metadata": {
      "needs_background": "light"
     },
     "output_type": "display_data"
    }
   ],
   "source": [
    "learn_clas.recorder.plot()"
   ]
  },
  {
   "cell_type": "code",
   "execution_count": 29,
   "metadata": {},
   "outputs": [],
   "source": [
    "lr_clas = 2e-1  #2e-2?"
   ]
  },
  {
   "cell_type": "code",
   "execution_count": 30,
   "metadata": {},
   "outputs": [
    {
     "data": {
      "text/html": [
       "<table border=\"1\" class=\"dataframe\">\n",
       "  <thead>\n",
       "    <tr style=\"text-align: left;\">\n",
       "      <th>epoch</th>\n",
       "      <th>train_loss</th>\n",
       "      <th>valid_loss</th>\n",
       "      <th>accuracy</th>\n",
       "      <th>time</th>\n",
       "    </tr>\n",
       "  </thead>\n",
       "  <tbody>\n",
       "    <tr>\n",
       "      <td>0</td>\n",
       "      <td>0.346113</td>\n",
       "      <td>0.289709</td>\n",
       "      <td>0.864441</td>\n",
       "      <td>00:03</td>\n",
       "    </tr>\n",
       "  </tbody>\n",
       "</table>"
      ],
      "text/plain": [
       "<IPython.core.display.HTML object>"
      ]
     },
     "metadata": {},
     "output_type": "display_data"
    }
   ],
   "source": [
    "learn_clas.fit_one_cycle(1, lr_clas, moms=(0.8,0.7))"
   ]
  },
  {
   "cell_type": "code",
   "execution_count": 31,
   "metadata": {},
   "outputs": [],
   "source": [
    "learn_class.save('first')"
   ]
  },
  {
   "cell_type": "markdown",
   "metadata": {},
   "source": [
    "### Freeze the stem and keep tuning"
   ]
  },
  {
   "cell_type": "code",
   "execution_count": 32,
   "metadata": {},
   "outputs": [
    {
     "data": {
      "text/html": [
       "<table border=\"1\" class=\"dataframe\">\n",
       "  <thead>\n",
       "    <tr style=\"text-align: left;\">\n",
       "      <th>epoch</th>\n",
       "      <th>train_loss</th>\n",
       "      <th>valid_loss</th>\n",
       "      <th>accuracy</th>\n",
       "      <th>time</th>\n",
       "    </tr>\n",
       "  </thead>\n",
       "  <tbody>\n",
       "    <tr>\n",
       "      <td>0</td>\n",
       "      <td>0.306032</td>\n",
       "      <td>0.254440</td>\n",
       "      <td>0.882153</td>\n",
       "      <td>00:03</td>\n",
       "    </tr>\n",
       "  </tbody>\n",
       "</table>"
      ],
      "text/plain": [
       "<IPython.core.display.HTML object>"
      ]
     },
     "metadata": {},
     "output_type": "display_data"
    }
   ],
   "source": [
    "learn_clas.freeze_to(-2)\n",
    "learn_clas.fit_one_cycle(1, slice(1e-1/(2.6**4),1e-1), moms=(0.8,0.7))"
   ]
  },
  {
   "cell_type": "code",
   "execution_count": 33,
   "metadata": {},
   "outputs": [],
   "source": [
    "#learn_clas.save('second')"
   ]
  },
  {
   "cell_type": "code",
   "execution_count": 35,
   "metadata": {},
   "outputs": [
    {
     "data": {
      "text/html": [
       "<table border=\"1\" class=\"dataframe\">\n",
       "  <thead>\n",
       "    <tr style=\"text-align: left;\">\n",
       "      <th>epoch</th>\n",
       "      <th>train_loss</th>\n",
       "      <th>valid_loss</th>\n",
       "      <th>accuracy</th>\n",
       "      <th>time</th>\n",
       "    </tr>\n",
       "  </thead>\n",
       "  <tbody>\n",
       "    <tr>\n",
       "      <td>0</td>\n",
       "      <td>0.253910</td>\n",
       "      <td>0.249741</td>\n",
       "      <td>0.887829</td>\n",
       "      <td>00:05</td>\n",
       "    </tr>\n",
       "  </tbody>\n",
       "</table>"
      ],
      "text/plain": [
       "<IPython.core.display.HTML object>"
      ]
     },
     "metadata": {},
     "output_type": "display_data"
    }
   ],
   "source": [
    "learn_clas.freeze_to(-3)\n",
    "learn_clas.fit_one_cycle(1, slice(lr_clas*0.1/(2.6**4), lr_clas*0.1), moms=(0.8,0.7))"
   ]
  },
  {
   "cell_type": "code",
   "execution_count": 36,
   "metadata": {},
   "outputs": [],
   "source": [
    "learn_clas.save('third')"
   ]
  },
  {
   "cell_type": "markdown",
   "metadata": {},
   "source": [
    "### Unfreeze and fit a bit more"
   ]
  },
  {
   "cell_type": "code",
   "execution_count": 37,
   "metadata": {},
   "outputs": [
    {
     "data": {
      "text/html": [
       "<table border=\"1\" class=\"dataframe\">\n",
       "  <thead>\n",
       "    <tr style=\"text-align: left;\">\n",
       "      <th>epoch</th>\n",
       "      <th>train_loss</th>\n",
       "      <th>valid_loss</th>\n",
       "      <th>accuracy</th>\n",
       "      <th>time</th>\n",
       "    </tr>\n",
       "  </thead>\n",
       "  <tbody>\n",
       "    <tr>\n",
       "      <td>0</td>\n",
       "      <td>0.231806</td>\n",
       "      <td>0.288489</td>\n",
       "      <td>0.886694</td>\n",
       "      <td>00:06</td>\n",
       "    </tr>\n",
       "    <tr>\n",
       "      <td>1</td>\n",
       "      <td>0.221677</td>\n",
       "      <td>0.249897</td>\n",
       "      <td>0.886921</td>\n",
       "      <td>00:06</td>\n",
       "    </tr>\n",
       "  </tbody>\n",
       "</table>"
      ],
      "text/plain": [
       "<IPython.core.display.HTML object>"
      ]
     },
     "metadata": {},
     "output_type": "display_data"
    }
   ],
   "source": [
    "learn_clas.unfreeze()\n",
    "learn_clas.fit_one_cycle(2, slice((lr_clas/20)/(2.6**4), lr_clas/20), moms=(0.8,0.7))"
   ]
  },
  {
   "cell_type": "code",
   "execution_count": 38,
   "metadata": {},
   "outputs": [],
   "source": [
    "learn.save('fourth')"
   ]
  },
  {
   "cell_type": "markdown",
   "metadata": {},
   "source": [
    "## Best model is the third in this run"
   ]
  },
  {
   "cell_type": "code",
   "execution_count": null,
   "metadata": {},
   "outputs": [],
   "source": []
  }
 ],
 "metadata": {
  "kernelspec": {
   "display_name": "Python 3",
   "language": "python",
   "name": "python3"
  },
  "language_info": {
   "codemirror_mode": {
    "name": "ipython",
    "version": 3
   },
   "file_extension": ".py",
   "mimetype": "text/x-python",
   "name": "python",
   "nbconvert_exporter": "python",
   "pygments_lexer": "ipython3",
   "version": "3.7.2"
  }
 },
 "nbformat": 4,
 "nbformat_minor": 2
}
